{
 "cells": [
  {
   "cell_type": "markdown",
   "metadata": {},
   "source": [
    "# Predicting Age from OK Cupid Data"
   ]
  },
  {
   "source": [
    "## Introduction\n",
    "The objective of this assignment is to predict the age of an individual on a dating profile, using OK Cupid profile data of users near San Francisco. This dataset was sourced from openml.org at https://www.openml.org/d/42164."
   ],
   "cell_type": "markdown",
   "metadata": {}
  },
  {
   "cell_type": "markdown",
   "metadata": {},
   "source": [
    "## Table of contents\n",
    "\n",
    "* [Overview](#Overview)\n",
    "* [Data preparation](#References)"
   ]
  },
  {
   "source": [
    "## Overview\n",
    "### Data source\n",
    "The dating profile dataset available on openml.org was originally sourced from public profiles on www.okcupid.com of users who lived within a 25 mile radius of San Francisco who were active online between 30/6/2011-30/6/2012 and had at least one profile picture. This data was sourced and made public with the permission of OK Cupid, and the csv linked on openml.org can be found here: https://github.com/rudeboybert/JSE_OkCupid/blob/master/profiles.csv.zip This source also includes a text file which gives a description of all the variables.\n",
    "\n",
    "This dataset has 59,946 observations (i.e. users), and 31 features (including the target feature which is age). We will use a sample of 5,000 observations for this assignment.\n",
    "\n",
    "### Project objective\n",
    "\n",
    "### Target feature\n",
    "\n",
    "### Descriptive features\n",
    "There are 30 descriptive features in this dataset. Some categorical features have two factors e.g. diet has mostly or strictly, as well as the type of diet.\n",
    "- 'body_type': categorical\n",
    "  - rather not say, thin, overweight, skinny, average, fit, athletic, jacked, a little extra, curvy, full figured, used up\n",
    "- 'diet': categorical\n",
    "  - mostly, strictly\n",
    "  - anything, vegetarian, vegan, kosher, halal, other\n",
    "- 'drinks': categorical\n",
    "  - very often, often, socially, rarely, desperately, not at all\n",
    "- 'drugs': categorical\n",
    "  - never, sometimes, often\n",
    "- 'education': categorical\n",
    "  - graduated from, working on, dropped out of\n",
    "  - high school, two-year college, university, masters program, law school, med school, Ph.D program, space camp\n",
    "- 'ethnicity': categorical\n",
    "  - asian, middle eastern, black, native american, indian, pacific islander, hispanic/latin, white, other\n",
    "- 'height': continuous, in inches\n",
    "- 'income': categorical in US $, -1 means rather not say\n",
    "  - -1, 20000, 30000, 40000, 50000, 60000 70000, 80000, 100000, 150000, 250000, 500000, 1000000,\n",
    "- 'job': categorical\n",
    "  - student, art/music/writing, banking/finance, administration, technology, construction, education, entertainment/media, management, hospitality, law, medicine, military, politics/government, sales/marketing, science/engineering, transportation, unemployed, other, rather not say, retire\n",
    "- 'offspring':\n",
    "  - has a kid, has kids, doesnt have a kid, doesn't want kids\n",
    "  - and/but might want them, wants them, doesn't want any, doesn't want more  \n",
    "- 'orientation':\n",
    "  - straight, gay, bisexual\n",
    "- 'pets':\n",
    "  - has dogs, likes dogs, dislikes dogs\n",
    "  - has cats, likes cats, dislikes cats\n",
    "- 'religion':\n",
    "  - agnosticism, atheism, Christianity, Judaism, Catholicism, Islam, Hinduism, Buddhism, Other\n",
    "  - and very serious about it, and somewhat serious about it, but not too serious about it, and laughing about it\n",
    "- 'sex':\n",
    "  - m, f\n",
    "- 'sign':\n",
    "  - aquarius, pices, aries, taurus, gemini, cancer, leo, virgo, libra, scorpio, sagittarius, capricorn\n",
    "  - but it doesn’t matter, and it matters a lot, and it’s fun to think about\n",
    "- 'smokes':\n",
    "  - yes, sometimes, when drinking, trying to quit, no\n",
    "- 'speaks':\n",
    "  - Afrikaans, Albanian, Arabic, Armenian, Basque, Belarusan, Bengali, Breton, Bulgarian, Catalan, Cebuano, Chechen, Chinese, C++, Croatian, Czech, Danish, Dutch, English, Esperanto, Estonian, Farsi, Finnish, French, Frisian, Georgian, German, Greek, Gujarati, Ancient Greek, Hawaiian, Hebrew, Hindi, Hungarian, Icelandic, Ilongo, Indonesian, Irish, Italian, Japanese, Khmer, Korean, Latin, Latvian, LISP, Lithuanian, Malay, Maori, Mongolian, Norwegian, Occitan, Other, Persian, Polish, Portuguese, Romanian, Rotuman, Russian, Sanskrit, Sardinian, Serbian, Sign Language, Slovak, Slovenian, Spanish, Swahili, Swedish, Tagalog, Tamil, Thai, Tibetan, Turkish, Ukranian, Urdu, Vietnamese, Welsh, Yiddish \n",
    "  - fluently, okay, poorly\n",
    "- 'status':\n",
    "  - single, seeing someone, married, in an open relationship\n",
    "- 'essay0':\n",
    "  - \"My self summary\"\n",
    "- 'essay1':\n",
    "  - \"What I'm doing with my life\"\n",
    "- 'essay2':\n",
    "  - \"I'm really good at\"\n",
    "- 'essay3':\n",
    "  - \"The first thing people usually notice about me\"\n",
    "- 'essay4':\n",
    "  - \"Favorite books, movies, show, music, and food\"\n",
    "- 'essay5':\n",
    "  - \"The six things I could never do without\"\n",
    "- 'essay6':\n",
    "  - \"I spend a lot of time thinking about\"\n",
    "- 'essay7':\n",
    "  - \"On a typical Friday night I am\"\n",
    "- 'essay8':\n",
    "  - \"The most private thing I am willing to admit\"\n",
    "- 'essay9':\n",
    "  - \"You should message me if...\"  "
   ],
   "cell_type": "markdown",
   "metadata": {}
  },
  {
   "source": [
    "## Data Preparation\n",
    "\n",
    "-\n",
    "\n",
    "### Preliminaries\n",
    "\n",
    "-"
   ],
   "cell_type": "markdown",
   "metadata": {}
  },
  {
   "cell_type": "code",
   "execution_count": 2,
   "metadata": {},
   "outputs": [],
   "source": [
    "# Importing modules\n",
    "import numpy as np\n",
    "import pandas as pd\n",
    "import matplotlib.pyplot as plt\n",
    "import seaborn as sns\n",
    "import statsmodels.api as sm\n",
    "import statsmodels.formula.api as smf\n",
    "import patsy\n",
    "import warnings\n",
    "###\n",
    "warnings.filterwarnings('ignore')\n",
    "###\n",
    "%matplotlib inline \n",
    "%config InlineBackend.figure_format = 'retina'\n",
    "plt.style.use(\"ggplot\")"
   ]
  },
  {
   "cell_type": "markdown",
   "metadata": {},
   "source": [
    "url = https://www.openml.org/d/42164"
   ]
  },
  {
   "cell_type": "markdown",
   "metadata": {},
   "source": [
    "### Data Cleaning and Transformation\n",
    "\n",
    "-"
   ]
  },
  {
   "cell_type": "markdown",
   "metadata": {},
   "source": [
    "### Checking for Missing Values\n",
    "\n",
    "-"
   ]
  },
  {
   "cell_type": "markdown",
   "metadata": {},
   "source": [
    "### Summary Statistics\n",
    "\n",
    "-"
   ]
  },
  {
   "cell_type": "markdown",
   "metadata": {},
   "source": [
    "### Continuous Features\n",
    "\n",
    "-"
   ]
  },
  {
   "cell_type": "markdown",
   "metadata": {},
   "source": [
    "### Fixing Column Names\n",
    "\n",
    "-"
   ]
  },
  {
   "cell_type": "markdown",
   "metadata": {},
   "source": [
    "### Categorical Features\n",
    "\n",
    "-"
   ]
  },
  {
   "cell_type": "markdown",
   "metadata": {},
   "source": [
    "### Dependent Variable\n",
    "\n",
    "-"
   ]
  },
  {
   "cell_type": "markdown",
   "metadata": {},
   "source": [
    "## Data Exploration \n",
    "\n",
    "-"
   ]
  },
  {
   "cell_type": "markdown",
   "metadata": {},
   "source": [
    "### Univariate Visualisation\n",
    "\n",
    "#### Bar Chart\n",
    "\n",
    "#### Box plot\n",
    "\n",
    "#### Histogram"
   ]
  },
  {
   "cell_type": "markdown",
   "metadata": {},
   "source": [
    "### Multivariate Visualisation\n",
    "\n",
    "#### Scatterplot\n",
    "\n",
    "#### Categorical Attributes by\n",
    "\n",
    "#### Facet plots\n",
    "\n",
    "#### another scatterplot probably"
   ]
  },
  {
   "cell_type": "markdown",
   "metadata": {},
   "source": [
    "## Statistical Modeling and Performance Evaluation\n",
    "\n",
    "### Full Model"
   ]
  },
  {
   "cell_type": "markdown",
   "metadata": {},
   "source": [
    "### Full Model Diagnostic Checks\n",
    "\n",
    "#### predictive variable - scatterplot\n",
    "\n",
    "#### actual variable - scatterplot\n",
    "\n",
    "#### predictive variable - histogram\n",
    "\n",
    "#### actual variable - histogram"
   ]
  },
  {
   "cell_type": "markdown",
   "metadata": {},
   "source": [
    "### Backwards Feature Selection"
   ]
  },
  {
   "cell_type": "markdown",
   "metadata": {},
   "source": [
    "### Reduced Model Diagnostic Checks\n",
    "\n",
    "#### scatterplot of reduced model\n",
    "\n",
    "#### histogram of reduced model|"
   ]
  },
  {
   "cell_type": "markdown",
   "metadata": {},
   "source": [
    "## Summary and Conclusions"
   ]
  },
  {
   "cell_type": "markdown",
   "metadata": {},
   "source": [
    "## References"
   ]
  },
  {
   "cell_type": "code",
   "execution_count": null,
   "metadata": {},
   "outputs": [],
   "source": []
  }
 ],
 "metadata": {
  "kernelspec": {
   "name": "Python 3.8.5 32-bit",
   "display_name": "Python 3.8.5 32-bit",
   "metadata": {
    "interpreter": {
     "hash": "3e26e66ef86bf5aa1d4e225213cda6e2ecf42e4e797348c4cc48b46cb687c05b"
    }
   }
  },
  "language_info": {
   "codemirror_mode": {
    "name": "ipython",
    "version": 3
   },
   "file_extension": ".py",
   "mimetype": "text/x-python",
   "name": "python",
   "nbconvert_exporter": "python",
   "pygments_lexer": "ipython3",
   "version": "3.8.5-final"
  }
 },
 "nbformat": 4,
 "nbformat_minor": 4
}