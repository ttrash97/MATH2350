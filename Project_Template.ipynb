{
 "cells": [
  {
   "cell_type": "markdown",
   "metadata": {},
   "source": [
    "# Predicting Age from OK Cupid Data"
   ]
  },
  {
   "source": [
    "## Introduction\n",
    "The objective of this assignment is to predict the age of an individual on a dating profile, using OK Cupid profile data of users near San Francisco. This dataset was sourced from openml.org at https://www.openml.org/d/42164."
   ],
   "cell_type": "markdown",
   "metadata": {}
  },
  {
   "cell_type": "markdown",
   "metadata": {},
   "source": [
    "## Table of contents\n",
    "\n",
    "* [Overview](#Overview)\n",
    "* [Data preparation](#References)"
   ]
  },
  {
   "source": [
    "## Overview\n",
    "### Data source\n",
    "The dating profile dataset available on openml.org was originally sourced from public profiles on www.okcupid.com of users who lived within a 25 mile radius of San Francisco who were active online between 30/6/2011-30/6/2012 and had at least one profile picture. This data was sourced and made public with the permission of OK Cupid, and the csv linked on openml.org can be found here: https://github.com/rudeboybert/JSE_OkCupid/blob/master/profiles.csv.zip This source also includes a text file which gives a description of all the variables.\n",
    "\n",
    "This dataset has 59,946 observations (i.e. users), and 31 features (including the target feature which is age). We will use a sample of 5,000 observations for this assignment.\n",
    "\n",
    "### Project objective\n",
    "\n",
    "### Target feature\n",
    "The target features is `age`.\n",
    "\n",
    "### Descriptive features\n",
    "There are 30 descriptive features in this dataset. Some categorical features have two factors e.g. diet has mostly or strictly, as well as the type of diet.\n",
    "- `body_type`: categorical\n",
    "  - rather not say, thin, overweight, skinny, average, fit, athletic, jacked, a little extra, curvy, full figured, used up\n",
    "- `diet`: categorical\n",
    "  - mostly, strictly\n",
    "  - anything, vegetarian, vegan, kosher, halal, other\n",
    "- `drinks`: categorical\n",
    "  - very often, often, socially, rarely, desperately, not at all\n",
    "- `drugs`: categorical\n",
    "  - never, sometimes, often\n",
    "- `education`: categorical\n",
    "  - graduated from, working on, dropped out of\n",
    "  - high school, two-year college, university, masters program, law school, med school, Ph.D program, space camp\n",
    "- `ethnicity`: categorical\n",
    "  - asian, middle eastern, black, native american, indian, pacific islander, hispanic/latin, white, other\n",
    "- `height`: continuous, in inches\n",
    "- `income`: categorical in US $, -1 means rather not say\n",
    "  - -1, 20000, 30000, 40000, 50000, 60000 70000, 80000, 100000, 150000, 250000, 500000, 1000000,\n",
    "- `job`: categorical\n",
    "  - student, art/music/writing, banking/finance, administration, technology, construction, education, entertainment/media, management, hospitality, law, medicine, military, politics/government, sales/marketing, science/engineering, transportation, unemployed, other, rather not say, retire\n",
    "- `last online`:\n",
    "- `location`:\n",
    "- `offspring`: categorical\n",
    "  - has a kid, has kids, doesnt have a kid, doesn't want kids\n",
    "  - and/but might want them, wants them, doesn't want any, doesn't want more  \n",
    "- `orientation`: categorical\n",
    "  - straight, gay, bisexual\n",
    "- `pets`: categorical\n",
    "  - has dogs, likes dogs, dislikes dogs\n",
    "  - has cats, likes cats, dislikes cats\n",
    "- `religion`: categorical\n",
    "  - agnosticism, atheism, Christianity, Judaism, Catholicism, Islam, Hinduism, Buddhism, Other\n",
    "  - and very serious about it, and somewhat serious about it, but not too serious about it, and laughing about it\n",
    "- `sex`: categorical\n",
    "  - m, f\n",
    "- `sign`: categorical\n",
    "  - aquarius, pisces, aries, taurus, gemini, cancer, leo, virgo, libra, scorpio, sagittarius, capricorn\n",
    "  - but it doesn’t matter, and it matters a lot, and it’s fun to think about\n",
    "- `smokes`: categorical\n",
    "  - yes, sometimes, when drinking, trying to quit, no\n",
    "- `speaks`: categorical\n",
    "  - Afrikaans, Albanian, Arabic, Armenian, Basque, Belarusan, Bengali, Breton, Bulgarian, Catalan, Cebuano, Chechen, Chinese, C++, Croatian, Czech, Danish, Dutch, English, Esperanto, Estonian, Farsi, Finnish, French, Frisian, Georgian, German, Greek, Gujarati, Ancient Greek, Hawaiian, Hebrew, Hindi, Hungarian, Icelandic, Ilongo, Indonesian, Irish, Italian, Japanese, Khmer, Korean, Latin, Latvian, LISP, Lithuanian, Malay, Maori, Mongolian, Norwegian, Occitan, Other, Persian, Polish, Portuguese, Romanian, Rotuman, Russian, Sanskrit, Sardinian, Serbian, Sign Language, Slovak, Slovenian, Spanish, Swahili, Swedish, Tagalog, Tamil, Thai, Tibetan, Turkish, Ukranian, Urdu, Vietnamese, Welsh, Yiddish \n",
    "  - fluently, okay, poorly\n",
    "- `status`: categorical\n",
    "  - single, seeing someone, married, in an open relationship\n",
    "- `essay0`: id-like variable\n",
    "  - \"My self summary\"\n",
    "- `essay1`: id-like variable\n",
    "  - \"What I'm doing with my life\"\n",
    "- `essay2`: id-like variable\n",
    "  - \"I'm really good at\"\n",
    "- `essay3`: id-like variable\n",
    "  - \"The first thing people usually notice about me\"\n",
    "- `essay4`: id-like variable\n",
    "  - \"Favorite books, movies, show, music, and food\"\n",
    "- `essay5`: id-like variable\n",
    "  - \"The six things I could never do without\"\n",
    "- `essay6`: id-like variable\n",
    "  - \"I spend a lot of time thinking about\"\n",
    "- `essay7`: id-like variable\n",
    "  - \"On a typical Friday night I am\"\n",
    "- `essay8`: id-like variable\n",
    "  - \"The most private thing I am willing to admit\"\n",
    "- `essay9`: id-like variable\n",
    "  - \"You should message me if...\"  "
   ],
   "cell_type": "markdown",
   "metadata": {}
  },
  {
   "source": [
    "## Data Preparation\n",
    "\n",
    "-\n",
    "\n",
    "### Preliminaries\n",
    "\n",
    "-"
   ],
   "cell_type": "markdown",
   "metadata": {}
  },
  {
   "cell_type": "code",
   "execution_count": 1,
   "metadata": {},
   "outputs": [],
   "source": [
    "# Importing modules\n",
    "import numpy as np\n",
    "import pandas as pd\n",
    "import matplotlib.pyplot as plt\n",
    "import seaborn as sns\n",
    "import statsmodels.api as sm\n",
    "import statsmodels.formula.api as smf\n",
    "import patsy\n",
    "import warnings\n",
    "###\n",
    "warnings.filterwarnings('ignore')\n",
    "###\n",
    "%matplotlib inline \n",
    "%config InlineBackend.figure_format = 'retina'\n",
    "plt.style.use(\"ggplot\")"
   ]
  },
  {
   "source": [
    "# Specifying the attribute names\n",
    "attributeNames = [\n",
    "    'age',\n",
    "    'body_type',\n",
    "    'diet',\n",
    "    'drinks',\n",
    "    'drugs',\n",
    "    'education',\n",
    "    'essay0',\n",
    "    'essay1',\n",
    "    'essay2',\n",
    "    'essay3',\n",
    "    'essay4',\n",
    "    'essay5', \n",
    "    'essay6',\n",
    "    'essay7',\n",
    "    'essay8',\n",
    "    'essay9',\n",
    "    'ethnicity',\n",
    "    'height',\n",
    "    'income',\n",
    "    'job',\n",
    "    'last_online',\n",
    "    'location',\n",
    "    'offspring',\n",
    "    'orientation',\n",
    "    'pets',\n",
    "    'religion',\n",
    "    'sex',\n",
    "    'sign',\n",
    "    'smokes',\n",
    "    'speaks',\n",
    "    'status',\n",
    "]\n",
    "\n",
    "# Read in data\n",
    "df = pd.read_csv('df.csv', names = attributeNames)\n",
    "df.sample(10)"
   ],
   "cell_type": "code",
   "metadata": {},
   "execution_count": 2,
   "outputs": [
    {
     "output_type": "execute_result",
     "data": {
      "text/plain": [
       "     age       body_type               diet    drinks      drugs  \\\n",
       "1564  27  a little extra                NaN  socially  sometimes   \n",
       "1574  38        athletic     strictly other  socially      never   \n",
       "1479  41  a little extra    mostly anything  socially      never   \n",
       "3938  52         average     strictly other  socially      never   \n",
       "1918  33            thin                NaN  socially        NaN   \n",
       "4540  29         average                NaN  socially      never   \n",
       "1995  26          skinny                NaN     often      never   \n",
       "2897  29        athletic                NaN  socially      never   \n",
       "1608  31             NaN                NaN  socially      never   \n",
       "3594  30            thin  mostly vegetarian  socially        NaN   \n",
       "\n",
       "                              education  \\\n",
       "1564     graduated from masters program   \n",
       "1574                 college/university   \n",
       "1479  graduated from college/university   \n",
       "3938                                NaN   \n",
       "1918          graduated from med school   \n",
       "4540  graduated from college/university   \n",
       "1995          graduated from space camp   \n",
       "2897  graduated from college/university   \n",
       "1608  graduated from college/university   \n",
       "3594  graduated from college/university   \n",
       "\n",
       "                                                 essay0  \\\n",
       "1564  <p>i've been in california for a few years now...   \n",
       "1574                               come play with me...   \n",
       "1479  if i like you...can i keep you?<br />\\n<br />\\...   \n",
       "3938  i am having a self improvement kind of year. l...   \n",
       "1918  let's see life is good. i absolutely love what...   \n",
       "4540  i love self deprecating humor and a good satir...   \n",
       "1995  well after creating and deleting 7 intros i'm ...   \n",
       "2897  i graduated from sacramento state university w...   \n",
       "1608  hey there my name is adam and i'm from palo al...   \n",
       "3594                                                NaN   \n",
       "\n",
       "                                                 essay1  \\\n",
       "1564  <p>still trying to find the right balance betw...   \n",
       "1574  i'm enjoying every second and sweatin' to keep...   \n",
       "1479  i am secure &amp; happy with myself, but...lif...   \n",
       "3938  i seem to have lots of things going on but try...   \n",
       "1918  doctoring. my patients are incredible, fascina...   \n",
       "4540  relocating to san francisco.<br />\\n<br />\\nin...   \n",
       "1995                                                NaN   \n",
       "2897  i am trying to get my cpa licence in near future.   \n",
       "1608  i went to highschool in the bay area, college ...   \n",
       "3594                                                NaN   \n",
       "\n",
       "                                                 essay2  \\\n",
       "1564  seeing the humor or at least the positive aspe...   \n",
       "1574  i'm really good at understanding people, swear...   \n",
       "1479                   everything...lol but i am really   \n",
       "3938  learning new things - lately i've been making ...   \n",
       "1918  intuition. silence. i wear my heart on my slee...   \n",
       "4540  blurring the lines between nerdiness and nice ...   \n",
       "1995     making new friends, i love meeting new people.   \n",
       "2897      making people laugh and understanding people.   \n",
       "1608  i am really good at working with kids, sports,...   \n",
       "3594                                                NaN   \n",
       "\n",
       "                                                 essay3  ...  \\\n",
       "1564  <p>i tend to be very open-minded and easy to g...  ...   \n",
       "1574  i'm a friendly person and i wanna talk to ever...  ...   \n",
       "1479                                                NaN  ...   \n",
       "3938          that i type in lower case letters - a lot  ...   \n",
       "1918  i use hand gestures when i talk. and my big eyes.  ...   \n",
       "4540  that would depend entirely upon their ability ...  ...   \n",
       "1995      well i tend to dye my hair interesting colors  ...   \n",
       "2897                                       is my smile.  ...   \n",
       "1608  i think people usually notice my smile and my ...  ...   \n",
       "3594                                                NaN  ...   \n",
       "\n",
       "                       location                offspring orientation  \\\n",
       "1564  san francisco, california  doesn&rsquo;t want kids    bisexual   \n",
       "1574         novato, california                      NaN    straight   \n",
       "1479       richmond, california                 has kids    straight   \n",
       "3938        oakland, california                      NaN    straight   \n",
       "1918  san francisco, california                      NaN    straight   \n",
       "4540  san francisco, california                      NaN    straight   \n",
       "1995     burlingame, california                      NaN         gay   \n",
       "2897      daly city, california                      NaN    straight   \n",
       "1608     burlingame, california                      NaN    straight   \n",
       "3594       berkeley, california                      NaN    straight   \n",
       "\n",
       "                           pets                                   religion  \\\n",
       "1564  likes dogs and likes cats   agnosticism but not too serious about it   \n",
       "1574  likes dogs and likes cats          agnosticism and laughing about it   \n",
       "1479                        NaN  catholicism and somewhat serious about it   \n",
       "3938                        NaN                                        NaN   \n",
       "1918                 likes dogs                                        NaN   \n",
       "4540                        NaN                                        NaN   \n",
       "1995    likes dogs and has cats      atheism and somewhat serious about it   \n",
       "2897                        NaN     hinduism and somewhat serious about it   \n",
       "1608                        NaN                                        NaN   \n",
       "3594  likes dogs and likes cats                                        NaN   \n",
       "\n",
       "     sex                                         sign         smokes  \\\n",
       "1564   m            libra but it doesn&rsquo;t matter      sometimes   \n",
       "1574   m  capricorn and it&rsquo;s fun to think about             no   \n",
       "1479   m            virgo but it doesn&rsquo;t matter             no   \n",
       "3938   f                                          NaN             no   \n",
       "1918   f           gemini but it doesn&rsquo;t matter             no   \n",
       "4540   m                                          NaN             no   \n",
       "1995   m              leo but it doesn&rsquo;t matter  when drinking   \n",
       "2897   m        capricorn but it doesn&rsquo;t matter  when drinking   \n",
       "1608   m                                          NaN             no   \n",
       "3594   f           taurus but it doesn&rsquo;t matter  when drinking   \n",
       "\n",
       "                                                 speaks  status  \n",
       "1564              english (fluently), german (fluently)  single  \n",
       "1574                            english, spanish (okay)  single  \n",
       "1479                                            english  single  \n",
       "3938                             english, danish (okay)  single  \n",
       "1918  english (fluently), spanish (okay), hindi (poo...  single  \n",
       "4540                                            english  single  \n",
       "1995                                 english (fluently)  single  \n",
       "2897                                            english  single  \n",
       "1608                                            english  single  \n",
       "3594                  english (fluently), french (okay)  single  \n",
       "\n",
       "[10 rows x 31 columns]"
      ],
      "text/html": "<div>\n<style scoped>\n    .dataframe tbody tr th:only-of-type {\n        vertical-align: middle;\n    }\n\n    .dataframe tbody tr th {\n        vertical-align: top;\n    }\n\n    .dataframe thead th {\n        text-align: right;\n    }\n</style>\n<table border=\"1\" class=\"dataframe\">\n  <thead>\n    <tr style=\"text-align: right;\">\n      <th></th>\n      <th>age</th>\n      <th>body_type</th>\n      <th>diet</th>\n      <th>drinks</th>\n      <th>drugs</th>\n      <th>education</th>\n      <th>essay0</th>\n      <th>essay1</th>\n      <th>essay2</th>\n      <th>essay3</th>\n      <th>...</th>\n      <th>location</th>\n      <th>offspring</th>\n      <th>orientation</th>\n      <th>pets</th>\n      <th>religion</th>\n      <th>sex</th>\n      <th>sign</th>\n      <th>smokes</th>\n      <th>speaks</th>\n      <th>status</th>\n    </tr>\n  </thead>\n  <tbody>\n    <tr>\n      <th>1564</th>\n      <td>27</td>\n      <td>a little extra</td>\n      <td>NaN</td>\n      <td>socially</td>\n      <td>sometimes</td>\n      <td>graduated from masters program</td>\n      <td>&lt;p&gt;i've been in california for a few years now...</td>\n      <td>&lt;p&gt;still trying to find the right balance betw...</td>\n      <td>seeing the humor or at least the positive aspe...</td>\n      <td>&lt;p&gt;i tend to be very open-minded and easy to g...</td>\n      <td>...</td>\n      <td>san francisco, california</td>\n      <td>doesn&amp;rsquo;t want kids</td>\n      <td>bisexual</td>\n      <td>likes dogs and likes cats</td>\n      <td>agnosticism but not too serious about it</td>\n      <td>m</td>\n      <td>libra but it doesn&amp;rsquo;t matter</td>\n      <td>sometimes</td>\n      <td>english (fluently), german (fluently)</td>\n      <td>single</td>\n    </tr>\n    <tr>\n      <th>1574</th>\n      <td>38</td>\n      <td>athletic</td>\n      <td>strictly other</td>\n      <td>socially</td>\n      <td>never</td>\n      <td>college/university</td>\n      <td>come play with me...</td>\n      <td>i'm enjoying every second and sweatin' to keep...</td>\n      <td>i'm really good at understanding people, swear...</td>\n      <td>i'm a friendly person and i wanna talk to ever...</td>\n      <td>...</td>\n      <td>novato, california</td>\n      <td>NaN</td>\n      <td>straight</td>\n      <td>likes dogs and likes cats</td>\n      <td>agnosticism and laughing about it</td>\n      <td>m</td>\n      <td>capricorn and it&amp;rsquo;s fun to think about</td>\n      <td>no</td>\n      <td>english, spanish (okay)</td>\n      <td>single</td>\n    </tr>\n    <tr>\n      <th>1479</th>\n      <td>41</td>\n      <td>a little extra</td>\n      <td>mostly anything</td>\n      <td>socially</td>\n      <td>never</td>\n      <td>graduated from college/university</td>\n      <td>if i like you...can i keep you?&lt;br /&gt;\\n&lt;br /&gt;\\...</td>\n      <td>i am secure &amp;amp; happy with myself, but...lif...</td>\n      <td>everything...lol but i am really</td>\n      <td>NaN</td>\n      <td>...</td>\n      <td>richmond, california</td>\n      <td>has kids</td>\n      <td>straight</td>\n      <td>NaN</td>\n      <td>catholicism and somewhat serious about it</td>\n      <td>m</td>\n      <td>virgo but it doesn&amp;rsquo;t matter</td>\n      <td>no</td>\n      <td>english</td>\n      <td>single</td>\n    </tr>\n    <tr>\n      <th>3938</th>\n      <td>52</td>\n      <td>average</td>\n      <td>strictly other</td>\n      <td>socially</td>\n      <td>never</td>\n      <td>NaN</td>\n      <td>i am having a self improvement kind of year. l...</td>\n      <td>i seem to have lots of things going on but try...</td>\n      <td>learning new things - lately i've been making ...</td>\n      <td>that i type in lower case letters - a lot</td>\n      <td>...</td>\n      <td>oakland, california</td>\n      <td>NaN</td>\n      <td>straight</td>\n      <td>NaN</td>\n      <td>NaN</td>\n      <td>f</td>\n      <td>NaN</td>\n      <td>no</td>\n      <td>english, danish (okay)</td>\n      <td>single</td>\n    </tr>\n    <tr>\n      <th>1918</th>\n      <td>33</td>\n      <td>thin</td>\n      <td>NaN</td>\n      <td>socially</td>\n      <td>NaN</td>\n      <td>graduated from med school</td>\n      <td>let's see life is good. i absolutely love what...</td>\n      <td>doctoring. my patients are incredible, fascina...</td>\n      <td>intuition. silence. i wear my heart on my slee...</td>\n      <td>i use hand gestures when i talk. and my big eyes.</td>\n      <td>...</td>\n      <td>san francisco, california</td>\n      <td>NaN</td>\n      <td>straight</td>\n      <td>likes dogs</td>\n      <td>NaN</td>\n      <td>f</td>\n      <td>gemini but it doesn&amp;rsquo;t matter</td>\n      <td>no</td>\n      <td>english (fluently), spanish (okay), hindi (poo...</td>\n      <td>single</td>\n    </tr>\n    <tr>\n      <th>4540</th>\n      <td>29</td>\n      <td>average</td>\n      <td>NaN</td>\n      <td>socially</td>\n      <td>never</td>\n      <td>graduated from college/university</td>\n      <td>i love self deprecating humor and a good satir...</td>\n      <td>relocating to san francisco.&lt;br /&gt;\\n&lt;br /&gt;\\nin...</td>\n      <td>blurring the lines between nerdiness and nice ...</td>\n      <td>that would depend entirely upon their ability ...</td>\n      <td>...</td>\n      <td>san francisco, california</td>\n      <td>NaN</td>\n      <td>straight</td>\n      <td>NaN</td>\n      <td>NaN</td>\n      <td>m</td>\n      <td>NaN</td>\n      <td>no</td>\n      <td>english</td>\n      <td>single</td>\n    </tr>\n    <tr>\n      <th>1995</th>\n      <td>26</td>\n      <td>skinny</td>\n      <td>NaN</td>\n      <td>often</td>\n      <td>never</td>\n      <td>graduated from space camp</td>\n      <td>well after creating and deleting 7 intros i'm ...</td>\n      <td>NaN</td>\n      <td>making new friends, i love meeting new people.</td>\n      <td>well i tend to dye my hair interesting colors</td>\n      <td>...</td>\n      <td>burlingame, california</td>\n      <td>NaN</td>\n      <td>gay</td>\n      <td>likes dogs and has cats</td>\n      <td>atheism and somewhat serious about it</td>\n      <td>m</td>\n      <td>leo but it doesn&amp;rsquo;t matter</td>\n      <td>when drinking</td>\n      <td>english (fluently)</td>\n      <td>single</td>\n    </tr>\n    <tr>\n      <th>2897</th>\n      <td>29</td>\n      <td>athletic</td>\n      <td>NaN</td>\n      <td>socially</td>\n      <td>never</td>\n      <td>graduated from college/university</td>\n      <td>i graduated from sacramento state university w...</td>\n      <td>i am trying to get my cpa licence in near future.</td>\n      <td>making people laugh and understanding people.</td>\n      <td>is my smile.</td>\n      <td>...</td>\n      <td>daly city, california</td>\n      <td>NaN</td>\n      <td>straight</td>\n      <td>NaN</td>\n      <td>hinduism and somewhat serious about it</td>\n      <td>m</td>\n      <td>capricorn but it doesn&amp;rsquo;t matter</td>\n      <td>when drinking</td>\n      <td>english</td>\n      <td>single</td>\n    </tr>\n    <tr>\n      <th>1608</th>\n      <td>31</td>\n      <td>NaN</td>\n      <td>NaN</td>\n      <td>socially</td>\n      <td>never</td>\n      <td>graduated from college/university</td>\n      <td>hey there my name is adam and i'm from palo al...</td>\n      <td>i went to highschool in the bay area, college ...</td>\n      <td>i am really good at working with kids, sports,...</td>\n      <td>i think people usually notice my smile and my ...</td>\n      <td>...</td>\n      <td>burlingame, california</td>\n      <td>NaN</td>\n      <td>straight</td>\n      <td>NaN</td>\n      <td>NaN</td>\n      <td>m</td>\n      <td>NaN</td>\n      <td>no</td>\n      <td>english</td>\n      <td>single</td>\n    </tr>\n    <tr>\n      <th>3594</th>\n      <td>30</td>\n      <td>thin</td>\n      <td>mostly vegetarian</td>\n      <td>socially</td>\n      <td>NaN</td>\n      <td>graduated from college/university</td>\n      <td>NaN</td>\n      <td>NaN</td>\n      <td>NaN</td>\n      <td>NaN</td>\n      <td>...</td>\n      <td>berkeley, california</td>\n      <td>NaN</td>\n      <td>straight</td>\n      <td>likes dogs and likes cats</td>\n      <td>NaN</td>\n      <td>f</td>\n      <td>taurus but it doesn&amp;rsquo;t matter</td>\n      <td>when drinking</td>\n      <td>english (fluently), french (okay)</td>\n      <td>single</td>\n    </tr>\n  </tbody>\n</table>\n<p>10 rows × 31 columns</p>\n</div>"
     },
     "metadata": {},
     "execution_count": 2
    }
   ]
  },
  {
   "cell_type": "markdown",
   "metadata": {},
   "source": [
    "### Data Cleaning and Transformation\n",
    "\n",
    "-"
   ]
  },
  {
   "cell_type": "markdown",
   "metadata": {},
   "source": [
    "### Checking for Missing Values\n",
    "\n",
    "-"
   ]
  },
  {
   "cell_type": "markdown",
   "metadata": {},
   "source": [
    "### Summary Statistics\n",
    "\n",
    "-"
   ]
  },
  {
   "cell_type": "markdown",
   "metadata": {},
   "source": [
    "### Continuous Features\n",
    "\n",
    "-"
   ]
  },
  {
   "cell_type": "markdown",
   "metadata": {},
   "source": [
    "### Fixing Column Names\n",
    "\n",
    "-"
   ]
  },
  {
   "cell_type": "markdown",
   "metadata": {},
   "source": [
    "### Categorical Features\n",
    "\n",
    "-"
   ]
  },
  {
   "cell_type": "markdown",
   "metadata": {},
   "source": [
    "### Dependent Variable\n",
    "\n",
    "-"
   ]
  },
  {
   "cell_type": "markdown",
   "metadata": {},
   "source": [
    "## Data Exploration \n",
    "\n",
    "-"
   ]
  },
  {
   "cell_type": "markdown",
   "metadata": {},
   "source": [
    "### Univariate Visualisation\n",
    "\n",
    "#### Bar Chart\n",
    "\n",
    "#### Box plot\n",
    "\n",
    "#### Histogram"
   ]
  },
  {
   "cell_type": "markdown",
   "metadata": {},
   "source": [
    "### Multivariate Visualisation\n",
    "\n",
    "#### Scatterplot\n",
    "\n",
    "#### Categorical Attributes by\n",
    "\n",
    "#### Facet plots\n",
    "\n",
    "#### another scatterplot probably"
   ]
  },
  {
   "cell_type": "markdown",
   "metadata": {},
   "source": [
    "## Statistical Modeling and Performance Evaluation\n",
    "\n",
    "### Full Model"
   ]
  },
  {
   "cell_type": "markdown",
   "metadata": {},
   "source": [
    "### Full Model Diagnostic Checks\n",
    "\n",
    "#### predictive variable - scatterplot\n",
    "\n",
    "#### actual variable - scatterplot\n",
    "\n",
    "#### predictive variable - histogram\n",
    "\n",
    "#### actual variable - histogram"
   ]
  },
  {
   "cell_type": "markdown",
   "metadata": {},
   "source": [
    "### Backwards Feature Selection"
   ]
  },
  {
   "cell_type": "markdown",
   "metadata": {},
   "source": [
    "### Reduced Model Diagnostic Checks\n",
    "\n",
    "#### scatterplot of reduced model\n",
    "\n",
    "#### histogram of reduced model|"
   ]
  },
  {
   "cell_type": "markdown",
   "metadata": {},
   "source": [
    "## Summary and Conclusions"
   ]
  },
  {
   "cell_type": "markdown",
   "metadata": {},
   "source": [
    "## References"
   ]
  },
  {
   "cell_type": "code",
   "execution_count": null,
   "metadata": {},
   "outputs": [],
   "source": []
  }
 ],
 "metadata": {
  "kernelspec": {
   "name": "Python 3.8.5 32-bit",
   "display_name": "Python 3.8.5 32-bit",
   "metadata": {
    "interpreter": {
     "hash": "3e26e66ef86bf5aa1d4e225213cda6e2ecf42e4e797348c4cc48b46cb687c05b"
    }
   }
  },
  "language_info": {
   "codemirror_mode": {
    "name": "ipython",
    "version": 3
   },
   "file_extension": ".py",
   "mimetype": "text/x-python",
   "name": "python",
   "nbconvert_exporter": "python",
   "pygments_lexer": "ipython3",
   "version": "3.8.5-final"
  }
 },
 "nbformat": 4,
 "nbformat_minor": 4
}