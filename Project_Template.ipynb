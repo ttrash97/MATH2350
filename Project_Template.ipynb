{
 "cells": [
  {
   "cell_type": "markdown",
   "metadata": {},
   "source": [
    "# Predicting Age from OK Cupid Data"
   ]
  },
  {
   "source": [
    "## Introduction\n",
    "The objective of this assignment is to predict the age of an individual on a dating profile, using OK Cupid profile data of users near San Francisco. This dataset was sourced from openml.org at https://www.openml.org/d/42164."
   ],
   "cell_type": "markdown",
   "metadata": {}
  },
  {
   "cell_type": "markdown",
   "metadata": {},
   "source": [
    "## Table of contents\n",
    "\n",
    "* [Overview](#Overview)\n",
    "* [Data preparation](#References)"
   ]
  },
  {
   "source": [
    "## Overview\n",
    "### Data source\n",
    "The dating profile dataset available on openml.org was originally sourced from public profiles on www.okcupid.com of users who lived within a 25 mile radius of San Francisco who were active online between 30/6/2011-30/6/2012 and had at least one profile picture. This data was sourced and made public with the permission of OK Cupid, and the csv linked on openml.org can be found here: https://github.com/rudeboybert/JSE_OkCupid/blob/master/profiles.csv.zip This source also includes a text file which gives a description of all the variables.\n",
    "\n",
    "This dataset has 59,946 observations (i.e. users), and 31 features (including the target feature which is age). We will use a sample of 5,000 observations for this assignment.\n",
    "\n",
    "### Project objective\n",
    "\n",
    "### Target feature\n",
    "The target features is `age`.\n",
    "\n",
    "### Descriptive features\n",
    "There are 30 descriptive features in this dataset. Some categorical features have two factors e.g. diet has mostly or strictly, as well as the type of diet.\n",
    "- `body_type`: categorical\n",
    "  - rather not say, thin, overweight, skinny, average, fit, athletic, jacked, a little extra, curvy, full figured, used up\n",
    "- `diet`: categorical\n",
    "  - mostly, strictly\n",
    "  - anything, vegetarian, vegan, kosher, halal, other\n",
    "- `drinks`: categorical\n",
    "  - very often, often, socially, rarely, desperately, not at all\n",
    "- `drugs`: categorical\n",
    "  - never, sometimes, often\n",
    "- `education`: categorical\n",
    "  - graduated from, working on, dropped out of\n",
    "  - high school, two-year college, university, masters program, law school, med school, Ph.D program, space camp\n",
    "- `ethnicity`: categorical\n",
    "  - asian, middle eastern, black, native american, indian, pacific islander, hispanic/latin, white, other\n",
    "- `height`: continuous, in inches\n",
    "- `income`: categorical in US $, -1 means rather not say\n",
    "  - -1, 20000, 30000, 40000, 50000, 60000 70000, 80000, 100000, 150000, 250000, 500000, 1000000,\n",
    "- `job`: categorical\n",
    "  - student, art/music/writing, banking/finance, administration, technology, construction, education, entertainment/media, management, hospitality, law, medicine, military, politics/government, sales/marketing, science/engineering, transportation, unemployed, other, rather not say, retire\n",
    "- `last online`:\n",
    "- `location`:\n",
    "- `offspring`: categorical\n",
    "  - has a kid, has kids, doesnt have a kid, doesn't want kids\n",
    "  - and/but might want them, wants them, doesn't want any, doesn't want more  \n",
    "- `orientation`: categorical\n",
    "  - straight, gay, bisexual\n",
    "- `pets`: categorical\n",
    "  - has dogs, likes dogs, dislikes dogs\n",
    "  - has cats, likes cats, dislikes cats\n",
    "- `religion`: categorical\n",
    "  - agnosticism, atheism, Christianity, Judaism, Catholicism, Islam, Hinduism, Buddhism, Other\n",
    "  - and very serious about it, and somewhat serious about it, but not too serious about it, and laughing about it\n",
    "- `sex`: categorical\n",
    "  - m, f\n",
    "- `sign`: categorical\n",
    "  - aquarius, pisces, aries, taurus, gemini, cancer, leo, virgo, libra, scorpio, sagittarius, capricorn\n",
    "  - but it doesn’t matter, and it matters a lot, and it’s fun to think about\n",
    "- `smokes`: categorical\n",
    "  - yes, sometimes, when drinking, trying to quit, no\n",
    "- `speaks`: categorical\n",
    "  - Afrikaans, Albanian, Arabic, Armenian, Basque, Belarusan, Bengali, Breton, Bulgarian, Catalan, Cebuano, Chechen, Chinese, C++, Croatian, Czech, Danish, Dutch, English, Esperanto, Estonian, Farsi, Finnish, French, Frisian, Georgian, German, Greek, Gujarati, Ancient Greek, Hawaiian, Hebrew, Hindi, Hungarian, Icelandic, Ilongo, Indonesian, Irish, Italian, Japanese, Khmer, Korean, Latin, Latvian, LISP, Lithuanian, Malay, Maori, Mongolian, Norwegian, Occitan, Other, Persian, Polish, Portuguese, Romanian, Rotuman, Russian, Sanskrit, Sardinian, Serbian, Sign Language, Slovak, Slovenian, Spanish, Swahili, Swedish, Tagalog, Tamil, Thai, Tibetan, Turkish, Ukranian, Urdu, Vietnamese, Welsh, Yiddish \n",
    "  - fluently, okay, poorly\n",
    "- `status`: categorical\n",
    "  - single, seeing someone, married, in an open relationship\n",
    "- `essay0`: id-like variable\n",
    "  - \"My self summary\"\n",
    "- `essay1`: id-like variable\n",
    "  - \"What I'm doing with my life\"\n",
    "- `essay2`: id-like variable\n",
    "  - \"I'm really good at\"\n",
    "- `essay3`: id-like variable\n",
    "  - \"The first thing people usually notice about me\"\n",
    "- `essay4`: id-like variable\n",
    "  - \"Favorite books, movies, show, music, and food\"\n",
    "- `essay5`: id-like variable\n",
    "  - \"The six things I could never do without\"\n",
    "- `essay6`: id-like variable\n",
    "  - \"I spend a lot of time thinking about\"\n",
    "- `essay7`: id-like variable\n",
    "  - \"On a typical Friday night I am\"\n",
    "- `essay8`: id-like variable\n",
    "  - \"The most private thing I am willing to admit\"\n",
    "- `essay9`: id-like variable\n",
    "  - \"You should message me if...\"  "
   ],
   "cell_type": "markdown",
   "metadata": {}
  },
  {
   "source": [
    "## Data Preparation\n",
    "\n",
    "-\n",
    "\n",
    "### Preliminaries"
   ],
   "cell_type": "markdown",
   "metadata": {}
  },
  {
   "cell_type": "code",
   "execution_count": 16,
   "metadata": {},
   "outputs": [],
   "source": [
    "# Importing modules\n",
    "import numpy as np\n",
    "import pandas as pd\n",
    "import matplotlib.pyplot as plt\n",
    "import seaborn as sns\n",
    "import statsmodels.api as sm\n",
    "import statsmodels.formula.api as smf\n",
    "import patsy\n",
    "import warnings\n",
    "###\n",
    "warnings.filterwarnings('ignore')\n",
    "###\n",
    "%matplotlib inline \n",
    "%config InlineBackend.figure_format = 'retina'\n",
    "plt.style.use(\"ggplot\")"
   ]
  },
  {
   "source": [
    "# Specifying the attribute names\n",
    "attributeNames = [\n",
    "    'age',\n",
    "    'body_type',\n",
    "    'diet',\n",
    "    'drinks',\n",
    "    'drugs',\n",
    "    'education',\n",
    "    'essay0',\n",
    "    'essay1',\n",
    "    'essay2',\n",
    "    'essay3',\n",
    "    'essay4',\n",
    "    'essay5', \n",
    "    'essay6',\n",
    "    'essay7',\n",
    "    'essay8',\n",
    "    'essay9',\n",
    "    'ethnicity',\n",
    "    'height',\n",
    "    'income',\n",
    "    'job',\n",
    "    'last_online',\n",
    "    'location',\n",
    "    'offspring',\n",
    "    'orientation',\n",
    "    'pets',\n",
    "    'religion',\n",
    "    'sex',\n",
    "    'sign',\n",
    "    'smokes',\n",
    "    'speaks',\n",
    "    'status',\n",
    "]\n",
    "\n",
    "# Read in data\n",
    "df = pd.read_csv('df.csv', names = attributeNames)\n",
    "df.sample(10)"
   ],
   "cell_type": "code",
   "metadata": {},
   "execution_count": 17,
   "outputs": [
    {
     "output_type": "execute_result",
     "data": {
      "text/plain": [
       "     age       body_type               diet      drinks      drugs  \\\n",
       "16    39             fit  strictly anything    socially        NaN   \n",
       "1162  43             fit  mostly vegetarian  not at all      never   \n",
       "1069  26          skinny    mostly anything    socially        NaN   \n",
       "1784  38         average                NaN    socially        NaN   \n",
       "1212  45         average       mostly other      rarely        NaN   \n",
       "1634  35         average    mostly anything    socially        NaN   \n",
       "367   48             fit    mostly anything      rarely      never   \n",
       "3066  29             fit                NaN    socially        NaN   \n",
       "1817  44         average    mostly anything    socially        NaN   \n",
       "3312  20  a little extra       mostly other    socially  sometimes   \n",
       "\n",
       "                              education  \\\n",
       "16    graduated from college/university   \n",
       "1162     graduated from masters program   \n",
       "1069  graduated from college/university   \n",
       "1784  graduated from college/university   \n",
       "1212         graduated from high school   \n",
       "1634     graduated from masters program   \n",
       "367      graduated from masters program   \n",
       "3066                                NaN   \n",
       "1817          graduated from law school   \n",
       "3312      working on college/university   \n",
       "\n",
       "                                                 essay0  \\\n",
       "16                                                  NaN   \n",
       "1162  smart, specifically fast smart. deep.<br />\\nh...   \n",
       "1069  fuck it. if there's something you want to know...   \n",
       "1784  passionate, logical, romantic, guarded, shy, t...   \n",
       "1212  well about my self i live in china town sf. on...   \n",
       "1634  i grew up on the east coast, but i love the we...   \n",
       "367                                                 NaN   \n",
       "3066  child-like curiosity. genuine<br />\\n<br />\\ne...   \n",
       "1817  **/important update/**<br />\\ni am now over ha...   \n",
       "3312  i'm eager to live life. i live in the moment f...   \n",
       "\n",
       "                                                 essay1  \\\n",
       "16    dancing, playing, exploring, smiling, and doin...   \n",
       "1162  i've gotten inquiries about what i mean by my ...   \n",
       "1069  working as a research assistant, trying to sav...   \n",
       "1784  working too much. dreaming too much. not paint...   \n",
       "1212  well i am waiting for 1 good women to tack hom...   \n",
       "1634  i'm a closeted adventure seeker, and i seek ac...   \n",
       "367                                                 NaN   \n",
       "3066  most recently: losing bets and having to uploa...   \n",
       "1817  i am currently riding myrecumbent trike from c...   \n",
       "3312  i'm currently enrolled at the academy of art u...   \n",
       "\n",
       "                                                 essay2  \\\n",
       "16    obscure dances from the '30's and '40's, laugh...   \n",
       "1162  policy analysis. thinking, writing, editing, n...   \n",
       "1069  this is more a list of things i like most; wou...   \n",
       "1784                                   etch-a-sketching   \n",
       "1212  lessening to people talk playing pool and vide...   \n",
       "1634  ...i wish i could say golf, but that would not...   \n",
       "367                                                 NaN   \n",
       "3066  pulling off pranks on close friends<br />\\nmak...   \n",
       "1817  translating between lay, scientific and legal ...   \n",
       "3312   design and illustration, tennis and headbanging.   \n",
       "\n",
       "                                                 essay3  ...  \\\n",
       "16                                        you tell me:)  ...   \n",
       "1162                                        my charisma  ...   \n",
       "1069  if you meet me before noon you might notice i'...  ...   \n",
       "1784                                          i'm tall.  ...   \n",
       "1212  that i am clean cut with old school manners al...  ...   \n",
       "1634                                                NaN  ...   \n",
       "367                                                 NaN  ...   \n",
       "3066                                                NaN  ...   \n",
       "1817  i'm tall and people can't tell how old i am by...  ...   \n",
       "3312           my long black curly hair and my big grin  ...   \n",
       "\n",
       "                       location                                     offspring  \\\n",
       "16    san francisco, california                       doesn&rsquo;t have kids   \n",
       "1162  san francisco, california                                           NaN   \n",
       "1069     menlo park, california                                           NaN   \n",
       "1784  san francisco, california                                           NaN   \n",
       "1212  san francisco, california                       doesn&rsquo;t want kids   \n",
       "1634  san francisco, california                       doesn&rsquo;t have kids   \n",
       "367       san mateo, california  doesn&rsquo;t have kids, but might want them   \n",
       "3066       stanford, california                                           NaN   \n",
       "1817       berkeley, california       doesn&rsquo;t have kids, but wants them   \n",
       "3312       richmond, california                       doesn&rsquo;t have kids   \n",
       "\n",
       "     orientation                       pets  \\\n",
       "16      straight    likes dogs and has cats   \n",
       "1162    straight              dislikes dogs   \n",
       "1069    straight                   has dogs   \n",
       "1784    straight    likes dogs and has cats   \n",
       "1212    straight  likes dogs and likes cats   \n",
       "1634    straight                 likes dogs   \n",
       "367     straight                        NaN   \n",
       "3066    straight                        NaN   \n",
       "1817    straight  likes dogs and likes cats   \n",
       "3312    straight                        NaN   \n",
       "\n",
       "                                       religion sex  \\\n",
       "16                atheism and laughing about it   f   \n",
       "1162        other and somewhat serious about it   m   \n",
       "1069                                        NaN   f   \n",
       "1784   agnosticism but not too serious about it   f   \n",
       "1212  christianity but not too serious about it   m   \n",
       "1634                                        NaN   f   \n",
       "367                                         NaN   m   \n",
       "3066                                        NaN   m   \n",
       "1817          agnosticism and laughing about it   m   \n",
       "3312       atheism but not too serious about it   m   \n",
       "\n",
       "                                             sign         smokes  \\\n",
       "16           aquarius but it doesn&rsquo;t matter             no   \n",
       "1162                                          NaN             no   \n",
       "1069                                      scorpio  when drinking   \n",
       "1784      aries and it&rsquo;s fun to think about             no   \n",
       "1212  capricorn and it&rsquo;s fun to think about            NaN   \n",
       "1634                                       gemini            NaN   \n",
       "367                                           NaN             no   \n",
       "3066                                      scorpio            NaN   \n",
       "1817      aries and it&rsquo;s fun to think about             no   \n",
       "3312        leo and it&rsquo;s fun to think about      sometimes   \n",
       "\n",
       "                                                 speaks  status  \n",
       "16                   english (fluently), spanish (okay)  single  \n",
       "1162                                            english  single  \n",
       "1069                          english, spanish (poorly)  single  \n",
       "1784  english (fluently), german (okay), japanese (p...  single  \n",
       "1212                                 english (fluently)  single  \n",
       "1634               english (fluently), spanish (poorly)  single  \n",
       "367                                  english (fluently)  single  \n",
       "3066                                            english  single  \n",
       "1817                                 english (fluently)  single  \n",
       "3312             english (fluently), spanish (fluently)  single  \n",
       "\n",
       "[10 rows x 31 columns]"
      ],
      "text/html": "<div>\n<style scoped>\n    .dataframe tbody tr th:only-of-type {\n        vertical-align: middle;\n    }\n\n    .dataframe tbody tr th {\n        vertical-align: top;\n    }\n\n    .dataframe thead th {\n        text-align: right;\n    }\n</style>\n<table border=\"1\" class=\"dataframe\">\n  <thead>\n    <tr style=\"text-align: right;\">\n      <th></th>\n      <th>age</th>\n      <th>body_type</th>\n      <th>diet</th>\n      <th>drinks</th>\n      <th>drugs</th>\n      <th>education</th>\n      <th>essay0</th>\n      <th>essay1</th>\n      <th>essay2</th>\n      <th>essay3</th>\n      <th>...</th>\n      <th>location</th>\n      <th>offspring</th>\n      <th>orientation</th>\n      <th>pets</th>\n      <th>religion</th>\n      <th>sex</th>\n      <th>sign</th>\n      <th>smokes</th>\n      <th>speaks</th>\n      <th>status</th>\n    </tr>\n  </thead>\n  <tbody>\n    <tr>\n      <th>16</th>\n      <td>39</td>\n      <td>fit</td>\n      <td>strictly anything</td>\n      <td>socially</td>\n      <td>NaN</td>\n      <td>graduated from college/university</td>\n      <td>NaN</td>\n      <td>dancing, playing, exploring, smiling, and doin...</td>\n      <td>obscure dances from the '30's and '40's, laugh...</td>\n      <td>you tell me:)</td>\n      <td>...</td>\n      <td>san francisco, california</td>\n      <td>doesn&amp;rsquo;t have kids</td>\n      <td>straight</td>\n      <td>likes dogs and has cats</td>\n      <td>atheism and laughing about it</td>\n      <td>f</td>\n      <td>aquarius but it doesn&amp;rsquo;t matter</td>\n      <td>no</td>\n      <td>english (fluently), spanish (okay)</td>\n      <td>single</td>\n    </tr>\n    <tr>\n      <th>1162</th>\n      <td>43</td>\n      <td>fit</td>\n      <td>mostly vegetarian</td>\n      <td>not at all</td>\n      <td>never</td>\n      <td>graduated from masters program</td>\n      <td>smart, specifically fast smart. deep.&lt;br /&gt;\\nh...</td>\n      <td>i've gotten inquiries about what i mean by my ...</td>\n      <td>policy analysis. thinking, writing, editing, n...</td>\n      <td>my charisma</td>\n      <td>...</td>\n      <td>san francisco, california</td>\n      <td>NaN</td>\n      <td>straight</td>\n      <td>dislikes dogs</td>\n      <td>other and somewhat serious about it</td>\n      <td>m</td>\n      <td>NaN</td>\n      <td>no</td>\n      <td>english</td>\n      <td>single</td>\n    </tr>\n    <tr>\n      <th>1069</th>\n      <td>26</td>\n      <td>skinny</td>\n      <td>mostly anything</td>\n      <td>socially</td>\n      <td>NaN</td>\n      <td>graduated from college/university</td>\n      <td>fuck it. if there's something you want to know...</td>\n      <td>working as a research assistant, trying to sav...</td>\n      <td>this is more a list of things i like most; wou...</td>\n      <td>if you meet me before noon you might notice i'...</td>\n      <td>...</td>\n      <td>menlo park, california</td>\n      <td>NaN</td>\n      <td>straight</td>\n      <td>has dogs</td>\n      <td>NaN</td>\n      <td>f</td>\n      <td>scorpio</td>\n      <td>when drinking</td>\n      <td>english, spanish (poorly)</td>\n      <td>single</td>\n    </tr>\n    <tr>\n      <th>1784</th>\n      <td>38</td>\n      <td>average</td>\n      <td>NaN</td>\n      <td>socially</td>\n      <td>NaN</td>\n      <td>graduated from college/university</td>\n      <td>passionate, logical, romantic, guarded, shy, t...</td>\n      <td>working too much. dreaming too much. not paint...</td>\n      <td>etch-a-sketching</td>\n      <td>i'm tall.</td>\n      <td>...</td>\n      <td>san francisco, california</td>\n      <td>NaN</td>\n      <td>straight</td>\n      <td>likes dogs and has cats</td>\n      <td>agnosticism but not too serious about it</td>\n      <td>f</td>\n      <td>aries and it&amp;rsquo;s fun to think about</td>\n      <td>no</td>\n      <td>english (fluently), german (okay), japanese (p...</td>\n      <td>single</td>\n    </tr>\n    <tr>\n      <th>1212</th>\n      <td>45</td>\n      <td>average</td>\n      <td>mostly other</td>\n      <td>rarely</td>\n      <td>NaN</td>\n      <td>graduated from high school</td>\n      <td>well about my self i live in china town sf. on...</td>\n      <td>well i am waiting for 1 good women to tack hom...</td>\n      <td>lessening to people talk playing pool and vide...</td>\n      <td>that i am clean cut with old school manners al...</td>\n      <td>...</td>\n      <td>san francisco, california</td>\n      <td>doesn&amp;rsquo;t want kids</td>\n      <td>straight</td>\n      <td>likes dogs and likes cats</td>\n      <td>christianity but not too serious about it</td>\n      <td>m</td>\n      <td>capricorn and it&amp;rsquo;s fun to think about</td>\n      <td>NaN</td>\n      <td>english (fluently)</td>\n      <td>single</td>\n    </tr>\n    <tr>\n      <th>1634</th>\n      <td>35</td>\n      <td>average</td>\n      <td>mostly anything</td>\n      <td>socially</td>\n      <td>NaN</td>\n      <td>graduated from masters program</td>\n      <td>i grew up on the east coast, but i love the we...</td>\n      <td>i'm a closeted adventure seeker, and i seek ac...</td>\n      <td>...i wish i could say golf, but that would not...</td>\n      <td>NaN</td>\n      <td>...</td>\n      <td>san francisco, california</td>\n      <td>doesn&amp;rsquo;t have kids</td>\n      <td>straight</td>\n      <td>likes dogs</td>\n      <td>NaN</td>\n      <td>f</td>\n      <td>gemini</td>\n      <td>NaN</td>\n      <td>english (fluently), spanish (poorly)</td>\n      <td>single</td>\n    </tr>\n    <tr>\n      <th>367</th>\n      <td>48</td>\n      <td>fit</td>\n      <td>mostly anything</td>\n      <td>rarely</td>\n      <td>never</td>\n      <td>graduated from masters program</td>\n      <td>NaN</td>\n      <td>NaN</td>\n      <td>NaN</td>\n      <td>NaN</td>\n      <td>...</td>\n      <td>san mateo, california</td>\n      <td>doesn&amp;rsquo;t have kids, but might want them</td>\n      <td>straight</td>\n      <td>NaN</td>\n      <td>NaN</td>\n      <td>m</td>\n      <td>NaN</td>\n      <td>no</td>\n      <td>english (fluently)</td>\n      <td>single</td>\n    </tr>\n    <tr>\n      <th>3066</th>\n      <td>29</td>\n      <td>fit</td>\n      <td>NaN</td>\n      <td>socially</td>\n      <td>NaN</td>\n      <td>NaN</td>\n      <td>child-like curiosity. genuine&lt;br /&gt;\\n&lt;br /&gt;\\ne...</td>\n      <td>most recently: losing bets and having to uploa...</td>\n      <td>pulling off pranks on close friends&lt;br /&gt;\\nmak...</td>\n      <td>NaN</td>\n      <td>...</td>\n      <td>stanford, california</td>\n      <td>NaN</td>\n      <td>straight</td>\n      <td>NaN</td>\n      <td>NaN</td>\n      <td>m</td>\n      <td>scorpio</td>\n      <td>NaN</td>\n      <td>english</td>\n      <td>single</td>\n    </tr>\n    <tr>\n      <th>1817</th>\n      <td>44</td>\n      <td>average</td>\n      <td>mostly anything</td>\n      <td>socially</td>\n      <td>NaN</td>\n      <td>graduated from law school</td>\n      <td>**/important update/**&lt;br /&gt;\\ni am now over ha...</td>\n      <td>i am currently riding myrecumbent trike from c...</td>\n      <td>translating between lay, scientific and legal ...</td>\n      <td>i'm tall and people can't tell how old i am by...</td>\n      <td>...</td>\n      <td>berkeley, california</td>\n      <td>doesn&amp;rsquo;t have kids, but wants them</td>\n      <td>straight</td>\n      <td>likes dogs and likes cats</td>\n      <td>agnosticism and laughing about it</td>\n      <td>m</td>\n      <td>aries and it&amp;rsquo;s fun to think about</td>\n      <td>no</td>\n      <td>english (fluently)</td>\n      <td>single</td>\n    </tr>\n    <tr>\n      <th>3312</th>\n      <td>20</td>\n      <td>a little extra</td>\n      <td>mostly other</td>\n      <td>socially</td>\n      <td>sometimes</td>\n      <td>working on college/university</td>\n      <td>i'm eager to live life. i live in the moment f...</td>\n      <td>i'm currently enrolled at the academy of art u...</td>\n      <td>design and illustration, tennis and headbanging.</td>\n      <td>my long black curly hair and my big grin</td>\n      <td>...</td>\n      <td>richmond, california</td>\n      <td>doesn&amp;rsquo;t have kids</td>\n      <td>straight</td>\n      <td>NaN</td>\n      <td>atheism but not too serious about it</td>\n      <td>m</td>\n      <td>leo and it&amp;rsquo;s fun to think about</td>\n      <td>sometimes</td>\n      <td>english (fluently), spanish (fluently)</td>\n      <td>single</td>\n    </tr>\n  </tbody>\n</table>\n<p>10 rows × 31 columns</p>\n</div>"
     },
     "metadata": {},
     "execution_count": 17
    }
   ]
  },
  {
   "cell_type": "markdown",
   "metadata": {},
   "source": [
    "### Data Cleaning and Transformation"
   ]
  },
  {
   "cell_type": "code",
   "execution_count": 18,
   "metadata": {},
   "outputs": [
    {
     "output_type": "stream",
     "name": "stdout",
     "text": [
      "The shape of the dataset is (5001, 31)\n\nData types are below:\nage            object\nbody_type      object\ndiet           object\ndrinks         object\ndrugs          object\neducation      object\nessay0         object\nessay1         object\nessay2         object\nessay3         object\nessay4         object\nessay5         object\nessay6         object\nessay7         object\nessay8         object\nessay9         object\nethnicity      object\nheight         object\nincome         object\njob            object\nlast_online    object\nlocation       object\noffspring      object\norientation    object\npets           object\nreligion       object\nsex            object\nsign           object\nsmokes         object\nspeaks         object\nstatus         object\ndtype: object\n"
     ]
    }
   ],
   "source": [
    "print(f'The shape of the dataset is {df.shape}\\n')\n",
    "print(f'Data types are below:')\n",
    "print(df.dtypes)"
   ]
  },
  {
   "source": [
    "Some of the data types have come across as `object` rather than `int64`, so we need to transform them. But to do this, we need to remove any missing values first."
   ],
   "cell_type": "markdown",
   "metadata": {}
  },
  {
   "cell_type": "code",
   "execution_count": 22,
   "metadata": {},
   "outputs": [
    {
     "output_type": "error",
     "ename": "ValueError",
     "evalue": "could not convert string to float: 'age'",
     "traceback": [
      "\u001b[1;31m---------------------------------------------------------------------------\u001b[0m",
      "\u001b[1;31mValueError\u001b[0m                                Traceback (most recent call last)",
      "\u001b[1;32m<ipython-input-22-009b2f16bac1>\u001b[0m in \u001b[0;36m<module>\u001b[1;34m\u001b[0m\n\u001b[0;32m      1\u001b[0m \u001b[1;31m# Changing data types\u001b[0m\u001b[1;33m\u001b[0m\u001b[1;33m\u001b[0m\u001b[1;33m\u001b[0m\u001b[0m\n\u001b[1;32m----> 2\u001b[1;33m \u001b[0mdf\u001b[0m\u001b[1;33m[\u001b[0m\u001b[1;34m'age'\u001b[0m\u001b[1;33m]\u001b[0m \u001b[1;33m=\u001b[0m \u001b[0mdf\u001b[0m\u001b[1;33m.\u001b[0m\u001b[0mage\u001b[0m\u001b[1;33m.\u001b[0m\u001b[0mastype\u001b[0m\u001b[1;33m(\u001b[0m\u001b[0mfloat\u001b[0m\u001b[1;33m)\u001b[0m\u001b[1;33m\u001b[0m\u001b[1;33m\u001b[0m\u001b[0m\n\u001b[0m\u001b[0;32m      3\u001b[0m \u001b[0mdf\u001b[0m\u001b[1;33m[\u001b[0m\u001b[1;34m'height'\u001b[0m\u001b[1;33m]\u001b[0m \u001b[1;33m=\u001b[0m \u001b[0mdf\u001b[0m\u001b[1;33m.\u001b[0m\u001b[0mheight\u001b[0m\u001b[1;33m.\u001b[0m\u001b[0mastype\u001b[0m\u001b[1;33m(\u001b[0m\u001b[0mfloat\u001b[0m\u001b[1;33m)\u001b[0m\u001b[1;33m\u001b[0m\u001b[1;33m\u001b[0m\u001b[0m\n\u001b[0;32m      4\u001b[0m \u001b[0mdf\u001b[0m\u001b[1;33m[\u001b[0m\u001b[1;34m'income'\u001b[0m\u001b[1;33m]\u001b[0m \u001b[1;33m=\u001b[0m \u001b[0mdf\u001b[0m\u001b[1;33m.\u001b[0m\u001b[0mheight\u001b[0m\u001b[1;33m.\u001b[0m\u001b[0mastype\u001b[0m\u001b[1;33m(\u001b[0m\u001b[0mfloat\u001b[0m\u001b[1;33m)\u001b[0m\u001b[1;33m\u001b[0m\u001b[1;33m\u001b[0m\u001b[0m\n\u001b[0;32m      5\u001b[0m \u001b[1;33m\u001b[0m\u001b[0m\n",
      "\u001b[1;32m~\\AppData\\Local\\Programs\\Python\\Python38-32\\lib\\site-packages\\pandas\\core\\generic.py\u001b[0m in \u001b[0;36mastype\u001b[1;34m(self, dtype, copy, errors)\u001b[0m\n\u001b[0;32m   5544\u001b[0m         \u001b[1;32melse\u001b[0m\u001b[1;33m:\u001b[0m\u001b[1;33m\u001b[0m\u001b[1;33m\u001b[0m\u001b[0m\n\u001b[0;32m   5545\u001b[0m             \u001b[1;31m# else, only a single dtype is given\u001b[0m\u001b[1;33m\u001b[0m\u001b[1;33m\u001b[0m\u001b[1;33m\u001b[0m\u001b[0m\n\u001b[1;32m-> 5546\u001b[1;33m             \u001b[0mnew_data\u001b[0m \u001b[1;33m=\u001b[0m \u001b[0mself\u001b[0m\u001b[1;33m.\u001b[0m\u001b[0m_mgr\u001b[0m\u001b[1;33m.\u001b[0m\u001b[0mastype\u001b[0m\u001b[1;33m(\u001b[0m\u001b[0mdtype\u001b[0m\u001b[1;33m=\u001b[0m\u001b[0mdtype\u001b[0m\u001b[1;33m,\u001b[0m \u001b[0mcopy\u001b[0m\u001b[1;33m=\u001b[0m\u001b[0mcopy\u001b[0m\u001b[1;33m,\u001b[0m \u001b[0merrors\u001b[0m\u001b[1;33m=\u001b[0m\u001b[0merrors\u001b[0m\u001b[1;33m,\u001b[0m\u001b[1;33m)\u001b[0m\u001b[1;33m\u001b[0m\u001b[1;33m\u001b[0m\u001b[0m\n\u001b[0m\u001b[0;32m   5547\u001b[0m             \u001b[1;32mreturn\u001b[0m \u001b[0mself\u001b[0m\u001b[1;33m.\u001b[0m\u001b[0m_constructor\u001b[0m\u001b[1;33m(\u001b[0m\u001b[0mnew_data\u001b[0m\u001b[1;33m)\u001b[0m\u001b[1;33m.\u001b[0m\u001b[0m__finalize__\u001b[0m\u001b[1;33m(\u001b[0m\u001b[0mself\u001b[0m\u001b[1;33m,\u001b[0m \u001b[0mmethod\u001b[0m\u001b[1;33m=\u001b[0m\u001b[1;34m\"astype\"\u001b[0m\u001b[1;33m)\u001b[0m\u001b[1;33m\u001b[0m\u001b[1;33m\u001b[0m\u001b[0m\n\u001b[0;32m   5548\u001b[0m \u001b[1;33m\u001b[0m\u001b[0m\n",
      "\u001b[1;32m~\\AppData\\Local\\Programs\\Python\\Python38-32\\lib\\site-packages\\pandas\\core\\internals\\managers.py\u001b[0m in \u001b[0;36mastype\u001b[1;34m(self, dtype, copy, errors)\u001b[0m\n\u001b[0;32m    593\u001b[0m         \u001b[0mself\u001b[0m\u001b[1;33m,\u001b[0m \u001b[0mdtype\u001b[0m\u001b[1;33m,\u001b[0m \u001b[0mcopy\u001b[0m\u001b[1;33m:\u001b[0m \u001b[0mbool\u001b[0m \u001b[1;33m=\u001b[0m \u001b[1;32mFalse\u001b[0m\u001b[1;33m,\u001b[0m \u001b[0merrors\u001b[0m\u001b[1;33m:\u001b[0m \u001b[0mstr\u001b[0m \u001b[1;33m=\u001b[0m \u001b[1;34m\"raise\"\u001b[0m\u001b[1;33m\u001b[0m\u001b[1;33m\u001b[0m\u001b[0m\n\u001b[0;32m    594\u001b[0m     ) -> \"BlockManager\":\n\u001b[1;32m--> 595\u001b[1;33m         \u001b[1;32mreturn\u001b[0m \u001b[0mself\u001b[0m\u001b[1;33m.\u001b[0m\u001b[0mapply\u001b[0m\u001b[1;33m(\u001b[0m\u001b[1;34m\"astype\"\u001b[0m\u001b[1;33m,\u001b[0m \u001b[0mdtype\u001b[0m\u001b[1;33m=\u001b[0m\u001b[0mdtype\u001b[0m\u001b[1;33m,\u001b[0m \u001b[0mcopy\u001b[0m\u001b[1;33m=\u001b[0m\u001b[0mcopy\u001b[0m\u001b[1;33m,\u001b[0m \u001b[0merrors\u001b[0m\u001b[1;33m=\u001b[0m\u001b[0merrors\u001b[0m\u001b[1;33m)\u001b[0m\u001b[1;33m\u001b[0m\u001b[1;33m\u001b[0m\u001b[0m\n\u001b[0m\u001b[0;32m    596\u001b[0m \u001b[1;33m\u001b[0m\u001b[0m\n\u001b[0;32m    597\u001b[0m     def convert(\n",
      "\u001b[1;32m~\\AppData\\Local\\Programs\\Python\\Python38-32\\lib\\site-packages\\pandas\\core\\internals\\managers.py\u001b[0m in \u001b[0;36mapply\u001b[1;34m(self, f, align_keys, **kwargs)\u001b[0m\n\u001b[0;32m    404\u001b[0m                 \u001b[0mapplied\u001b[0m \u001b[1;33m=\u001b[0m \u001b[0mb\u001b[0m\u001b[1;33m.\u001b[0m\u001b[0mapply\u001b[0m\u001b[1;33m(\u001b[0m\u001b[0mf\u001b[0m\u001b[1;33m,\u001b[0m \u001b[1;33m**\u001b[0m\u001b[0mkwargs\u001b[0m\u001b[1;33m)\u001b[0m\u001b[1;33m\u001b[0m\u001b[1;33m\u001b[0m\u001b[0m\n\u001b[0;32m    405\u001b[0m             \u001b[1;32melse\u001b[0m\u001b[1;33m:\u001b[0m\u001b[1;33m\u001b[0m\u001b[1;33m\u001b[0m\u001b[0m\n\u001b[1;32m--> 406\u001b[1;33m                 \u001b[0mapplied\u001b[0m \u001b[1;33m=\u001b[0m \u001b[0mgetattr\u001b[0m\u001b[1;33m(\u001b[0m\u001b[0mb\u001b[0m\u001b[1;33m,\u001b[0m \u001b[0mf\u001b[0m\u001b[1;33m)\u001b[0m\u001b[1;33m(\u001b[0m\u001b[1;33m**\u001b[0m\u001b[0mkwargs\u001b[0m\u001b[1;33m)\u001b[0m\u001b[1;33m\u001b[0m\u001b[1;33m\u001b[0m\u001b[0m\n\u001b[0m\u001b[0;32m    407\u001b[0m             \u001b[0mresult_blocks\u001b[0m \u001b[1;33m=\u001b[0m \u001b[0m_extend_blocks\u001b[0m\u001b[1;33m(\u001b[0m\u001b[0mapplied\u001b[0m\u001b[1;33m,\u001b[0m \u001b[0mresult_blocks\u001b[0m\u001b[1;33m)\u001b[0m\u001b[1;33m\u001b[0m\u001b[1;33m\u001b[0m\u001b[0m\n\u001b[0;32m    408\u001b[0m \u001b[1;33m\u001b[0m\u001b[0m\n",
      "\u001b[1;32m~\\AppData\\Local\\Programs\\Python\\Python38-32\\lib\\site-packages\\pandas\\core\\internals\\blocks.py\u001b[0m in \u001b[0;36mastype\u001b[1;34m(self, dtype, copy, errors)\u001b[0m\n\u001b[0;32m    593\u001b[0m             \u001b[0mvals1d\u001b[0m \u001b[1;33m=\u001b[0m \u001b[0mvalues\u001b[0m\u001b[1;33m.\u001b[0m\u001b[0mravel\u001b[0m\u001b[1;33m(\u001b[0m\u001b[1;33m)\u001b[0m\u001b[1;33m\u001b[0m\u001b[1;33m\u001b[0m\u001b[0m\n\u001b[0;32m    594\u001b[0m             \u001b[1;32mtry\u001b[0m\u001b[1;33m:\u001b[0m\u001b[1;33m\u001b[0m\u001b[1;33m\u001b[0m\u001b[0m\n\u001b[1;32m--> 595\u001b[1;33m                 \u001b[0mvalues\u001b[0m \u001b[1;33m=\u001b[0m \u001b[0mastype_nansafe\u001b[0m\u001b[1;33m(\u001b[0m\u001b[0mvals1d\u001b[0m\u001b[1;33m,\u001b[0m \u001b[0mdtype\u001b[0m\u001b[1;33m,\u001b[0m \u001b[0mcopy\u001b[0m\u001b[1;33m=\u001b[0m\u001b[1;32mTrue\u001b[0m\u001b[1;33m)\u001b[0m\u001b[1;33m\u001b[0m\u001b[1;33m\u001b[0m\u001b[0m\n\u001b[0m\u001b[0;32m    596\u001b[0m             \u001b[1;32mexcept\u001b[0m \u001b[1;33m(\u001b[0m\u001b[0mValueError\u001b[0m\u001b[1;33m,\u001b[0m \u001b[0mTypeError\u001b[0m\u001b[1;33m)\u001b[0m\u001b[1;33m:\u001b[0m\u001b[1;33m\u001b[0m\u001b[1;33m\u001b[0m\u001b[0m\n\u001b[0;32m    597\u001b[0m                 \u001b[1;31m# e.g. astype_nansafe can fail on object-dtype of strings\u001b[0m\u001b[1;33m\u001b[0m\u001b[1;33m\u001b[0m\u001b[1;33m\u001b[0m\u001b[0m\n",
      "\u001b[1;32m~\\AppData\\Local\\Programs\\Python\\Python38-32\\lib\\site-packages\\pandas\\core\\dtypes\\cast.py\u001b[0m in \u001b[0;36mastype_nansafe\u001b[1;34m(arr, dtype, copy, skipna)\u001b[0m\n\u001b[0;32m    993\u001b[0m     \u001b[1;32mif\u001b[0m \u001b[0mcopy\u001b[0m \u001b[1;32mor\u001b[0m \u001b[0mis_object_dtype\u001b[0m\u001b[1;33m(\u001b[0m\u001b[0marr\u001b[0m\u001b[1;33m)\u001b[0m \u001b[1;32mor\u001b[0m \u001b[0mis_object_dtype\u001b[0m\u001b[1;33m(\u001b[0m\u001b[0mdtype\u001b[0m\u001b[1;33m)\u001b[0m\u001b[1;33m:\u001b[0m\u001b[1;33m\u001b[0m\u001b[1;33m\u001b[0m\u001b[0m\n\u001b[0;32m    994\u001b[0m         \u001b[1;31m# Explicit copy, or required since NumPy can't view from / to object.\u001b[0m\u001b[1;33m\u001b[0m\u001b[1;33m\u001b[0m\u001b[1;33m\u001b[0m\u001b[0m\n\u001b[1;32m--> 995\u001b[1;33m         \u001b[1;32mreturn\u001b[0m \u001b[0marr\u001b[0m\u001b[1;33m.\u001b[0m\u001b[0mastype\u001b[0m\u001b[1;33m(\u001b[0m\u001b[0mdtype\u001b[0m\u001b[1;33m,\u001b[0m \u001b[0mcopy\u001b[0m\u001b[1;33m=\u001b[0m\u001b[1;32mTrue\u001b[0m\u001b[1;33m)\u001b[0m\u001b[1;33m\u001b[0m\u001b[1;33m\u001b[0m\u001b[0m\n\u001b[0m\u001b[0;32m    996\u001b[0m \u001b[1;33m\u001b[0m\u001b[0m\n\u001b[0;32m    997\u001b[0m     \u001b[1;32mreturn\u001b[0m \u001b[0marr\u001b[0m\u001b[1;33m.\u001b[0m\u001b[0mview\u001b[0m\u001b[1;33m(\u001b[0m\u001b[0mdtype\u001b[0m\u001b[1;33m)\u001b[0m\u001b[1;33m\u001b[0m\u001b[1;33m\u001b[0m\u001b[0m\n",
      "\u001b[1;31mValueError\u001b[0m: could not convert string to float: 'age'"
     ]
    }
   ],
   "source": [
    "# Changing data types\n",
    "df['age'] = df.age.astype(float)\n",
    "df['height'] = df.height.astype(float)\n",
    "df['income'] = df.height.astype(float)\n",
    "\n",
    "# Check to see that this has worked\n",
    "df.dtypes"
   ]
  },
  {
   "source": [
    "### Checking for Missing Values"
   ],
   "cell_type": "markdown",
   "metadata": {}
  },
  {
   "cell_type": "code",
   "execution_count": 23,
   "metadata": {},
   "outputs": [
    {
     "output_type": "stream",
     "name": "stdout",
     "text": [
      "Number of missing values for each feature:\nage               0\nbody_type       459\ndiet           1965\ndrinks          256\ndrugs          1197\neducation       520\nessay0          475\nessay1          619\nessay2          793\nessay3          999\nessay4          882\nessay5          932\nessay6         1172\nessay7         1086\nessay8         1731\nessay9         1057\nethnicity       494\nheight            0\nincome            0\njob             698\nlast_online       0\nlocation          0\noffspring      2941\norientation       0\npets           1695\nreligion       1706\nsex               0\nsign            900\nsmokes          498\nspeaks            4\nstatus            0\ndtype: int64\n"
     ]
    }
   ],
   "source": [
    "print(f'Number of missing values for each feature:')\n",
    "print(df.isnull().sum())"
   ]
  },
  {
   "source": [
    "There are a lot of missing values, so we will need to remove these."
   ],
   "cell_type": "markdown",
   "metadata": {}
  },
  {
   "cell_type": "code",
   "execution_count": null,
   "metadata": {},
   "outputs": [],
   "source": []
  },
  {
   "source": [
    "### Summary Statistics\n",
    "\n",
    "-"
   ],
   "cell_type": "markdown",
   "metadata": {}
  },
  {
   "cell_type": "markdown",
   "metadata": {},
   "source": [
    "### Continuous Features\n",
    "\n",
    "-"
   ]
  },
  {
   "cell_type": "markdown",
   "metadata": {},
   "source": [
    "### Fixing Column Names\n",
    "\n",
    "-"
   ]
  },
  {
   "cell_type": "markdown",
   "metadata": {},
   "source": [
    "### Categorical Features\n",
    "\n",
    "-"
   ]
  },
  {
   "cell_type": "markdown",
   "metadata": {},
   "source": [
    "### Dependent Variable\n",
    "\n",
    "-"
   ]
  },
  {
   "cell_type": "markdown",
   "metadata": {},
   "source": [
    "## Data Exploration \n",
    "\n",
    "-"
   ]
  },
  {
   "cell_type": "markdown",
   "metadata": {},
   "source": [
    "### Univariate Visualisation\n",
    "\n",
    "#### Bar Chart\n",
    "\n",
    "#### Box plot\n",
    "\n",
    "#### Histogram"
   ]
  },
  {
   "cell_type": "markdown",
   "metadata": {},
   "source": [
    "### Multivariate Visualisation\n",
    "\n",
    "#### Scatterplot\n",
    "\n",
    "#### Categorical Attributes by\n",
    "\n",
    "#### Facet plots\n",
    "\n",
    "#### another scatterplot probably"
   ]
  },
  {
   "cell_type": "markdown",
   "metadata": {},
   "source": [
    "## Statistical Modeling and Performance Evaluation\n",
    "\n",
    "### Full Model"
   ]
  },
  {
   "cell_type": "markdown",
   "metadata": {},
   "source": [
    "### Full Model Diagnostic Checks\n",
    "\n",
    "#### predictive variable - scatterplot\n",
    "\n",
    "#### actual variable - scatterplot\n",
    "\n",
    "#### predictive variable - histogram\n",
    "\n",
    "#### actual variable - histogram"
   ]
  },
  {
   "cell_type": "markdown",
   "metadata": {},
   "source": [
    "### Backwards Feature Selection"
   ]
  },
  {
   "cell_type": "markdown",
   "metadata": {},
   "source": [
    "### Reduced Model Diagnostic Checks\n",
    "\n",
    "#### scatterplot of reduced model\n",
    "\n",
    "#### histogram of reduced model|"
   ]
  },
  {
   "cell_type": "markdown",
   "metadata": {},
   "source": [
    "## Summary and Conclusions"
   ]
  },
  {
   "cell_type": "markdown",
   "metadata": {},
   "source": [
    "## References"
   ]
  },
  {
   "cell_type": "code",
   "execution_count": null,
   "metadata": {},
   "outputs": [],
   "source": []
  }
 ],
 "metadata": {
  "kernelspec": {
   "name": "Python 3.8.5 32-bit",
   "display_name": "Python 3.8.5 32-bit",
   "metadata": {
    "interpreter": {
     "hash": "3e26e66ef86bf5aa1d4e225213cda6e2ecf42e4e797348c4cc48b46cb687c05b"
    }
   }
  },
  "language_info": {
   "codemirror_mode": {
    "name": "ipython",
    "version": 3
   },
   "file_extension": ".py",
   "mimetype": "text/x-python",
   "name": "python",
   "nbconvert_exporter": "python",
   "pygments_lexer": "ipython3",
   "version": "3.8.5-final"
  }
 },
 "nbformat": 4,
 "nbformat_minor": 4
}