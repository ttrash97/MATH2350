{
 "cells": [
  {
   "cell_type": "markdown",
   "metadata": {},
   "source": [
    "# Predicting Age from OK Cupid Data"
   ]
  },
  {
   "source": [
    "## Introduction\n",
    "The objective of this assignment is to predict the age of an individual on a dating profile, using OK Cupid profile data of users near San Francisco. This dataset was sourced from openml.org at https://www.openml.org/d/42164."
   ],
   "cell_type": "markdown",
   "metadata": {}
  },
  {
   "cell_type": "markdown",
   "metadata": {},
   "source": [
    "## Table of contents\n",
    "\n",
    "* [Overview](#Overview)\n",
    "* [Data preparation](#References)"
   ]
  },
  {
   "source": [
    "## Overview\n",
    "### Data source\n",
    "The dating profile dataset available on openml.org was originally sourced from public profiles on www.okcupid.com of users who lived within a 25 mile radius of San Francisco who were active online between 30/6/2011-30/6/2012 and had at least one profile picture. This data was sourced and made public with the permission of OK Cupid, and the csv linked on openml.org can be found here: https://github.com/rudeboybert/JSE_OkCupid/blob/master/profiles.csv.zip This source also includes a text file which gives a description of all the variables.\n",
    "\n",
    "This dataset has 59,946 observations (i.e. users), and 31 features (including the target feature which is age). We will use a sample of 5,000 observations for this assignment.\n",
    "\n",
    "### Project objective\n",
    "\n",
    "### Target feature\n",
    "The target feature is `age`.\n",
    "\n",
    "### Descriptive features\n",
    "There are 30 descriptive features in this dataset. Some categorical features have two factors e.g. diet has mostly or strictly, as well as the type of diet.\n",
    "- `body_type`: categorical\n",
    "  - rather not say, thin, overweight, skinny, average, fit, athletic, jacked, a little extra, curvy, full figured, used up\n",
    "- `diet`: categorical\n",
    "  - mostly, strictly\n",
    "  - anything, vegetarian, vegan, kosher, halal, other\n",
    "- `drinks`: categorical\n",
    "  - very often, often, socially, rarely, desperately, not at all\n",
    "- `drugs`: categorical\n",
    "  - never, sometimes, often\n",
    "- `education`: categorical\n",
    "  - graduated from, working on, dropped out of\n",
    "  - high school, two-year college, university, masters program, law school, med school, Ph.D program, space camp\n",
    "- `ethnicity`: categorical\n",
    "  - asian, middle eastern, black, native american, indian, pacific islander, hispanic/latin, white, other\n",
    "- `height`: continuous, in inches\n",
    "- `income`: categorical in US $, -1 means rather not say\n",
    "  - -1, 20000, 30000, 40000, 50000, 60000 70000, 80000, 100000, 150000, 250000, 500000, 1000000,\n",
    "- `job`: categorical\n",
    "  - student, art/music/writing, banking/finance, administration, technology, construction, education, entertainment/media, management, hospitality, law, medicine, military, politics/government, sales/marketing, science/engineering, transportation, unemployed, other, rather not say, retire\n",
    "- `last online`:\n",
    "- `location`:\n",
    "- `offspring`: categorical\n",
    "  - has a kid, has kids, doesnt have a kid, doesn't want kids\n",
    "  - and/but might want them, wants them, doesn't want any, doesn't want more  \n",
    "- `orientation`: categorical\n",
    "  - straight, gay, bisexual\n",
    "- `pets`: categorical\n",
    "  - has dogs, likes dogs, dislikes dogs\n",
    "  - has cats, likes cats, dislikes cats\n",
    "- `religion`: categorical\n",
    "  - agnosticism, atheism, Christianity, Judaism, Catholicism, Islam, Hinduism, Buddhism, Other\n",
    "  - and very serious about it, and somewhat serious about it, but not too serious about it, and laughing about it\n",
    "- `sex`: categorical\n",
    "  - m, f\n",
    "- `sign`: categorical\n",
    "  - aquarius, pisces, aries, taurus, gemini, cancer, leo, virgo, libra, scorpio, sagittarius, capricorn\n",
    "  - but it doesn’t matter, and it matters a lot, and it’s fun to think about\n",
    "- `smokes`: categorical\n",
    "  - yes, sometimes, when drinking, trying to quit, no\n",
    "- `speaks`: categorical\n",
    "  - Afrikaans, Albanian, Arabic, Armenian, Basque, Belarusan, Bengali, Breton, Bulgarian, Catalan, Cebuano, Chechen, Chinese, C++, Croatian, Czech, Danish, Dutch, English, Esperanto, Estonian, Farsi, Finnish, French, Frisian, Georgian, German, Greek, Gujarati, Ancient Greek, Hawaiian, Hebrew, Hindi, Hungarian, Icelandic, Ilongo, Indonesian, Irish, Italian, Japanese, Khmer, Korean, Latin, Latvian, LISP, Lithuanian, Malay, Maori, Mongolian, Norwegian, Occitan, Other, Persian, Polish, Portuguese, Romanian, Rotuman, Russian, Sanskrit, Sardinian, Serbian, Sign Language, Slovak, Slovenian, Spanish, Swahili, Swedish, Tagalog, Tamil, Thai, Tibetan, Turkish, Ukranian, Urdu, Vietnamese, Welsh, Yiddish \n",
    "  - fluently, okay, poorly\n",
    "- `status`: categorical\n",
    "  - single, seeing someone, married, in an open relationship\n",
    "- `essay0`: id-like variable\n",
    "  - \"My self summary\"\n",
    "- `essay1`: id-like variable\n",
    "  - \"What I'm doing with my life\"\n",
    "- `essay2`: id-like variable\n",
    "  - \"I'm really good at\"\n",
    "- `essay3`: id-like variable\n",
    "  - \"The first thing people usually notice about me\"\n",
    "- `essay4`: id-like variable\n",
    "  - \"Favorite books, movies, show, music, and food\"\n",
    "- `essay5`: id-like variable\n",
    "  - \"The six things I could never do without\"\n",
    "- `essay6`: id-like variable\n",
    "  - \"I spend a lot of time thinking about\"\n",
    "- `essay7`: id-like variable\n",
    "  - \"On a typical Friday night I am\"\n",
    "- `essay8`: id-like variable\n",
    "  - \"The most private thing I am willing to admit\"\n",
    "- `essay9`: id-like variable\n",
    "  - \"You should message me if...\"  "
   ],
   "cell_type": "markdown",
   "metadata": {}
  },
  {
   "source": [
    "## Data Preparation\n",
    "\n",
    "-\n",
    "\n",
    "### Preliminaries"
   ],
   "cell_type": "markdown",
   "metadata": {}
  },
  {
   "cell_type": "code",
   "execution_count": 94,
   "metadata": {},
   "outputs": [],
   "source": [
    "# Importing modules\n",
    "import numpy as np\n",
    "import pandas as pd\n",
    "import matplotlib.pyplot as plt\n",
    "import seaborn as sns\n",
    "import statsmodels.api as sm\n",
    "import statsmodels.formula.api as smf\n",
    "import patsy\n",
    "import warnings\n",
    "###\n",
    "warnings.filterwarnings('ignore')\n",
    "###\n",
    "%matplotlib inline \n",
    "%config InlineBackend.figure_format = 'retina'\n",
    "plt.style.use(\"ggplot\")"
   ]
  },
  {
   "source": [
    "# Specifying the attribute names\n",
    "attributeNames = [\n",
    "    'age',\n",
    "    'body_type',\n",
    "    'diet',\n",
    "    'drinks',\n",
    "    'drugs',\n",
    "    'education',\n",
    "    'essay0',\n",
    "    'essay1',\n",
    "    'essay2',\n",
    "    'essay3',\n",
    "    'essay4',\n",
    "    'essay5', \n",
    "    'essay6',\n",
    "    'essay7',\n",
    "    'essay8',\n",
    "    'essay9',\n",
    "    'ethnicity',\n",
    "    'height',\n",
    "    'income',\n",
    "    'job',\n",
    "    'last_online',\n",
    "    'location',\n",
    "    'offspring',\n",
    "    'orientation',\n",
    "    'pets',\n",
    "    'religion',\n",
    "    'sex',\n",
    "    'sign',\n",
    "    'smokes',\n",
    "    'speaks',\n",
    "    'status',\n",
    "]\n",
    "\n",
    "# Read in data\n",
    "df = pd.read_csv('df.csv', names = attributeNames)\n",
    "df.head(10)"
   ],
   "cell_type": "code",
   "metadata": {},
   "execution_count": 95,
   "outputs": [
    {
     "output_type": "execute_result",
     "data": {
      "text/plain": [
       "   age       body_type               diet    drinks      drugs  \\\n",
       "0  age       body_type               diet    drinks      drugs   \n",
       "1   22  a little extra  strictly anything  socially      never   \n",
       "2   35         average       mostly other     often  sometimes   \n",
       "3   38            thin           anything  socially        NaN   \n",
       "4   23            thin         vegetarian  socially        NaN   \n",
       "5   29        athletic                NaN  socially      never   \n",
       "6   29         average    mostly anything  socially        NaN   \n",
       "7   32             fit  strictly anything  socially      never   \n",
       "8   31         average    mostly anything  socially      never   \n",
       "9   24             NaN  strictly anything  socially        NaN   \n",
       "\n",
       "                           education  \\\n",
       "0                          education   \n",
       "1      working on college/university   \n",
       "2              working on space camp   \n",
       "3     graduated from masters program   \n",
       "4      working on college/university   \n",
       "5  graduated from college/university   \n",
       "6  graduated from college/university   \n",
       "7  graduated from college/university   \n",
       "8  graduated from college/university   \n",
       "9  graduated from college/university   \n",
       "\n",
       "                                              essay0  \\\n",
       "0                                             essay0   \n",
       "1  about me:<br />\\n<br />\\ni would love to think...   \n",
       "2  i am a chef: this is what that means.<br />\\n1...   \n",
       "3  i'm not ashamed of much, but writing public te...   \n",
       "4          i work in a library and go to school. . .   \n",
       "5  hey how's it going? currently vague on the pro...   \n",
       "6  i'm an australian living in san francisco, but...   \n",
       "7  life is about the little things. i love to lau...   \n",
       "8                                                NaN   \n",
       "9                                                NaN   \n",
       "\n",
       "                                              essay1  \\\n",
       "0                                             essay1   \n",
       "1  currently working as an international agent fo...   \n",
       "2  dedicating everyday to being an unbelievable b...   \n",
       "3  i make nerdy software for musicians, artists, ...   \n",
       "4          reading things written by old dead people   \n",
       "5                         work work work work + play   \n",
       "6  building awesome stuff. figuring out what's im...   \n",
       "7                         digging up buried treasure   \n",
       "8  writing. meeting new people, spending time wit...   \n",
       "9  oh goodness. at the moment i have 4 jobs, so i...   \n",
       "\n",
       "                                              essay2  \\\n",
       "0                                             essay2   \n",
       "1  making people laugh.<br />\\nranting about a go...   \n",
       "2  being silly. having ridiculous amonts of fun w...   \n",
       "3  improvising in different contexts. alternating...   \n",
       "4  playing synthesizers and organizing books acco...   \n",
       "5  creating imagery to look at:<br />\\nhttp://bag...   \n",
       "6  imagining random shit. laughing at aforementio...   \n",
       "7  frolicking<br />\\nwitty banter<br />\\nusing my...   \n",
       "8  remembering people's birthdays, sending cards,...   \n",
       "9                                                NaN   \n",
       "\n",
       "                                              essay3  ...  \\\n",
       "0                                             essay3  ...   \n",
       "1  the way i look. i am a six foot half asian, ha...  ...   \n",
       "2                                                NaN  ...   \n",
       "3  my large jaw and large glasses are the physica...  ...   \n",
       "4                  socially awkward but i do my best  ...   \n",
       "5            i smile a lot and my inquisitive nature  ...   \n",
       "6  i have a big smile. i also get asked if i'm we...  ...   \n",
       "7                              i am the last unicorn  ...   \n",
       "8  i'm rather approachable (a byproduct of being ...  ...   \n",
       "9  i'm freakishly blonde and have the same name a...  ...   \n",
       "\n",
       "                          location  \\\n",
       "0                         location   \n",
       "1  south san francisco, california   \n",
       "2              oakland, california   \n",
       "3        san francisco, california   \n",
       "4             berkeley, california   \n",
       "5        san francisco, california   \n",
       "6        san francisco, california   \n",
       "7        san francisco, california   \n",
       "8        san francisco, california   \n",
       "9    belvedere tiburon, california   \n",
       "\n",
       "                                      offspring  orientation  \\\n",
       "0                                     offspring  orientation   \n",
       "1  doesn&rsquo;t have kids, but might want them     straight   \n",
       "2  doesn&rsquo;t have kids, but might want them     straight   \n",
       "3                                           NaN     straight   \n",
       "4                       doesn&rsquo;t want kids     straight   \n",
       "5                                           NaN     straight   \n",
       "6  doesn&rsquo;t have kids, but might want them     straight   \n",
       "7                                           NaN     straight   \n",
       "8       doesn&rsquo;t have kids, but wants them     straight   \n",
       "9                       doesn&rsquo;t have kids     straight   \n",
       "\n",
       "                        pets                                   religion  sex  \\\n",
       "0                       pets                                   religion  sex   \n",
       "1  likes dogs and likes cats      agnosticism and very serious about it    m   \n",
       "2  likes dogs and likes cats   agnosticism but not too serious about it    m   \n",
       "3                   has cats                                        NaN    m   \n",
       "4                 likes cats                                        NaN    m   \n",
       "5  likes dogs and likes cats                                        NaN    m   \n",
       "6                 likes cats                                    atheism    m   \n",
       "7  likes dogs and likes cats                                        NaN    f   \n",
       "8  likes dogs and likes cats                               christianity    f   \n",
       "9  likes dogs and likes cats  christianity but not too serious about it    f   \n",
       "\n",
       "                                 sign         smokes  \\\n",
       "0                                sign         smokes   \n",
       "1                              gemini      sometimes   \n",
       "2                              cancer             no   \n",
       "3  pisces but it doesn&rsquo;t matter             no   \n",
       "4                              pisces             no   \n",
       "5                            aquarius             no   \n",
       "6                              taurus             no   \n",
       "7                               virgo            NaN   \n",
       "8                         sagittarius             no   \n",
       "9  gemini but it doesn&rsquo;t matter  when drinking   \n",
       "\n",
       "                                              speaks     status  \n",
       "0                                             speaks     status  \n",
       "1                                            english     single  \n",
       "2  english (fluently), spanish (poorly), french (...     single  \n",
       "3                               english, french, c++  available  \n",
       "4                           english, german (poorly)     single  \n",
       "5                                            english     single  \n",
       "6                 english (fluently), chinese (okay)     single  \n",
       "7                                            english     single  \n",
       "8                            english, spanish (okay)     single  \n",
       "9                                            english     single  \n",
       "\n",
       "[10 rows x 31 columns]"
      ],
      "text/html": "<div>\n<style scoped>\n    .dataframe tbody tr th:only-of-type {\n        vertical-align: middle;\n    }\n\n    .dataframe tbody tr th {\n        vertical-align: top;\n    }\n\n    .dataframe thead th {\n        text-align: right;\n    }\n</style>\n<table border=\"1\" class=\"dataframe\">\n  <thead>\n    <tr style=\"text-align: right;\">\n      <th></th>\n      <th>age</th>\n      <th>body_type</th>\n      <th>diet</th>\n      <th>drinks</th>\n      <th>drugs</th>\n      <th>education</th>\n      <th>essay0</th>\n      <th>essay1</th>\n      <th>essay2</th>\n      <th>essay3</th>\n      <th>...</th>\n      <th>location</th>\n      <th>offspring</th>\n      <th>orientation</th>\n      <th>pets</th>\n      <th>religion</th>\n      <th>sex</th>\n      <th>sign</th>\n      <th>smokes</th>\n      <th>speaks</th>\n      <th>status</th>\n    </tr>\n  </thead>\n  <tbody>\n    <tr>\n      <th>0</th>\n      <td>age</td>\n      <td>body_type</td>\n      <td>diet</td>\n      <td>drinks</td>\n      <td>drugs</td>\n      <td>education</td>\n      <td>essay0</td>\n      <td>essay1</td>\n      <td>essay2</td>\n      <td>essay3</td>\n      <td>...</td>\n      <td>location</td>\n      <td>offspring</td>\n      <td>orientation</td>\n      <td>pets</td>\n      <td>religion</td>\n      <td>sex</td>\n      <td>sign</td>\n      <td>smokes</td>\n      <td>speaks</td>\n      <td>status</td>\n    </tr>\n    <tr>\n      <th>1</th>\n      <td>22</td>\n      <td>a little extra</td>\n      <td>strictly anything</td>\n      <td>socially</td>\n      <td>never</td>\n      <td>working on college/university</td>\n      <td>about me:&lt;br /&gt;\\n&lt;br /&gt;\\ni would love to think...</td>\n      <td>currently working as an international agent fo...</td>\n      <td>making people laugh.&lt;br /&gt;\\nranting about a go...</td>\n      <td>the way i look. i am a six foot half asian, ha...</td>\n      <td>...</td>\n      <td>south san francisco, california</td>\n      <td>doesn&amp;rsquo;t have kids, but might want them</td>\n      <td>straight</td>\n      <td>likes dogs and likes cats</td>\n      <td>agnosticism and very serious about it</td>\n      <td>m</td>\n      <td>gemini</td>\n      <td>sometimes</td>\n      <td>english</td>\n      <td>single</td>\n    </tr>\n    <tr>\n      <th>2</th>\n      <td>35</td>\n      <td>average</td>\n      <td>mostly other</td>\n      <td>often</td>\n      <td>sometimes</td>\n      <td>working on space camp</td>\n      <td>i am a chef: this is what that means.&lt;br /&gt;\\n1...</td>\n      <td>dedicating everyday to being an unbelievable b...</td>\n      <td>being silly. having ridiculous amonts of fun w...</td>\n      <td>NaN</td>\n      <td>...</td>\n      <td>oakland, california</td>\n      <td>doesn&amp;rsquo;t have kids, but might want them</td>\n      <td>straight</td>\n      <td>likes dogs and likes cats</td>\n      <td>agnosticism but not too serious about it</td>\n      <td>m</td>\n      <td>cancer</td>\n      <td>no</td>\n      <td>english (fluently), spanish (poorly), french (...</td>\n      <td>single</td>\n    </tr>\n    <tr>\n      <th>3</th>\n      <td>38</td>\n      <td>thin</td>\n      <td>anything</td>\n      <td>socially</td>\n      <td>NaN</td>\n      <td>graduated from masters program</td>\n      <td>i'm not ashamed of much, but writing public te...</td>\n      <td>i make nerdy software for musicians, artists, ...</td>\n      <td>improvising in different contexts. alternating...</td>\n      <td>my large jaw and large glasses are the physica...</td>\n      <td>...</td>\n      <td>san francisco, california</td>\n      <td>NaN</td>\n      <td>straight</td>\n      <td>has cats</td>\n      <td>NaN</td>\n      <td>m</td>\n      <td>pisces but it doesn&amp;rsquo;t matter</td>\n      <td>no</td>\n      <td>english, french, c++</td>\n      <td>available</td>\n    </tr>\n    <tr>\n      <th>4</th>\n      <td>23</td>\n      <td>thin</td>\n      <td>vegetarian</td>\n      <td>socially</td>\n      <td>NaN</td>\n      <td>working on college/university</td>\n      <td>i work in a library and go to school. . .</td>\n      <td>reading things written by old dead people</td>\n      <td>playing synthesizers and organizing books acco...</td>\n      <td>socially awkward but i do my best</td>\n      <td>...</td>\n      <td>berkeley, california</td>\n      <td>doesn&amp;rsquo;t want kids</td>\n      <td>straight</td>\n      <td>likes cats</td>\n      <td>NaN</td>\n      <td>m</td>\n      <td>pisces</td>\n      <td>no</td>\n      <td>english, german (poorly)</td>\n      <td>single</td>\n    </tr>\n    <tr>\n      <th>5</th>\n      <td>29</td>\n      <td>athletic</td>\n      <td>NaN</td>\n      <td>socially</td>\n      <td>never</td>\n      <td>graduated from college/university</td>\n      <td>hey how's it going? currently vague on the pro...</td>\n      <td>work work work work + play</td>\n      <td>creating imagery to look at:&lt;br /&gt;\\nhttp://bag...</td>\n      <td>i smile a lot and my inquisitive nature</td>\n      <td>...</td>\n      <td>san francisco, california</td>\n      <td>NaN</td>\n      <td>straight</td>\n      <td>likes dogs and likes cats</td>\n      <td>NaN</td>\n      <td>m</td>\n      <td>aquarius</td>\n      <td>no</td>\n      <td>english</td>\n      <td>single</td>\n    </tr>\n    <tr>\n      <th>6</th>\n      <td>29</td>\n      <td>average</td>\n      <td>mostly anything</td>\n      <td>socially</td>\n      <td>NaN</td>\n      <td>graduated from college/university</td>\n      <td>i'm an australian living in san francisco, but...</td>\n      <td>building awesome stuff. figuring out what's im...</td>\n      <td>imagining random shit. laughing at aforementio...</td>\n      <td>i have a big smile. i also get asked if i'm we...</td>\n      <td>...</td>\n      <td>san francisco, california</td>\n      <td>doesn&amp;rsquo;t have kids, but might want them</td>\n      <td>straight</td>\n      <td>likes cats</td>\n      <td>atheism</td>\n      <td>m</td>\n      <td>taurus</td>\n      <td>no</td>\n      <td>english (fluently), chinese (okay)</td>\n      <td>single</td>\n    </tr>\n    <tr>\n      <th>7</th>\n      <td>32</td>\n      <td>fit</td>\n      <td>strictly anything</td>\n      <td>socially</td>\n      <td>never</td>\n      <td>graduated from college/university</td>\n      <td>life is about the little things. i love to lau...</td>\n      <td>digging up buried treasure</td>\n      <td>frolicking&lt;br /&gt;\\nwitty banter&lt;br /&gt;\\nusing my...</td>\n      <td>i am the last unicorn</td>\n      <td>...</td>\n      <td>san francisco, california</td>\n      <td>NaN</td>\n      <td>straight</td>\n      <td>likes dogs and likes cats</td>\n      <td>NaN</td>\n      <td>f</td>\n      <td>virgo</td>\n      <td>NaN</td>\n      <td>english</td>\n      <td>single</td>\n    </tr>\n    <tr>\n      <th>8</th>\n      <td>31</td>\n      <td>average</td>\n      <td>mostly anything</td>\n      <td>socially</td>\n      <td>never</td>\n      <td>graduated from college/university</td>\n      <td>NaN</td>\n      <td>writing. meeting new people, spending time wit...</td>\n      <td>remembering people's birthdays, sending cards,...</td>\n      <td>i'm rather approachable (a byproduct of being ...</td>\n      <td>...</td>\n      <td>san francisco, california</td>\n      <td>doesn&amp;rsquo;t have kids, but wants them</td>\n      <td>straight</td>\n      <td>likes dogs and likes cats</td>\n      <td>christianity</td>\n      <td>f</td>\n      <td>sagittarius</td>\n      <td>no</td>\n      <td>english, spanish (okay)</td>\n      <td>single</td>\n    </tr>\n    <tr>\n      <th>9</th>\n      <td>24</td>\n      <td>NaN</td>\n      <td>strictly anything</td>\n      <td>socially</td>\n      <td>NaN</td>\n      <td>graduated from college/university</td>\n      <td>NaN</td>\n      <td>oh goodness. at the moment i have 4 jobs, so i...</td>\n      <td>NaN</td>\n      <td>i'm freakishly blonde and have the same name a...</td>\n      <td>...</td>\n      <td>belvedere tiburon, california</td>\n      <td>doesn&amp;rsquo;t have kids</td>\n      <td>straight</td>\n      <td>likes dogs and likes cats</td>\n      <td>christianity but not too serious about it</td>\n      <td>f</td>\n      <td>gemini but it doesn&amp;rsquo;t matter</td>\n      <td>when drinking</td>\n      <td>english</td>\n      <td>single</td>\n    </tr>\n  </tbody>\n</table>\n<p>10 rows × 31 columns</p>\n</div>"
     },
     "metadata": {},
     "execution_count": 95
    }
   ]
  },
  {
   "cell_type": "markdown",
   "metadata": {},
   "source": [
    "### Data Cleaning and Transformation"
   ]
  },
  {
   "source": [
    "The first step is to remove the first row of column titles as we cannot use this data. "
   ],
   "cell_type": "markdown",
   "metadata": {}
  },
  {
   "cell_type": "code",
   "execution_count": 96,
   "metadata": {},
   "outputs": [],
   "source": [
    "df = df.iloc[1:]"
   ]
  },
  {
   "cell_type": "code",
   "execution_count": 97,
   "metadata": {},
   "outputs": [
    {
     "output_type": "stream",
     "name": "stdout",
     "text": [
      "The shape of the dataset is (5000, 31)\n\nData types are below:\nage            object\nbody_type      object\ndiet           object\ndrinks         object\ndrugs          object\neducation      object\nessay0         object\nessay1         object\nessay2         object\nessay3         object\nessay4         object\nessay5         object\nessay6         object\nessay7         object\nessay8         object\nessay9         object\nethnicity      object\nheight         object\nincome         object\njob            object\nlast_online    object\nlocation       object\noffspring      object\norientation    object\npets           object\nreligion       object\nsex            object\nsign           object\nsmokes         object\nspeaks         object\nstatus         object\ndtype: object\n"
     ]
    }
   ],
   "source": [
    "print(f'The shape of the dataset is {df.shape}\\n')\n",
    "print(f'Data types are below:')\n",
    "print(df.dtypes)"
   ]
  },
  {
   "source": [
    "Some of the data types have come across as `object` rather than `int64`, so we need to transform them. But to do this, we need to remove any missing values first. We also need to remove any id-like variables."
   ],
   "cell_type": "markdown",
   "metadata": {}
  },
  {
   "cell_type": "code",
   "execution_count": 98,
   "metadata": {},
   "outputs": [],
   "source": [
    "df = df.drop(['essay0', 'essay1', 'essay2', 'essay3', 'essay4', 'essay5', 'essay6', 'essay7', 'essay8', 'essay9'], axis = 1)"
   ]
  },
  {
   "source": [
    "### Checking for Missing Values"
   ],
   "cell_type": "markdown",
   "metadata": {}
  },
  {
   "cell_type": "code",
   "execution_count": 99,
   "metadata": {},
   "outputs": [
    {
     "output_type": "stream",
     "name": "stdout",
     "text": [
      "Number of missing values for each feature:\nage               0\nbody_type       459\ndiet           1965\ndrinks          256\ndrugs          1197\neducation       520\nethnicity       494\nheight            0\nincome            0\njob             698\nlast_online       0\nlocation          0\noffspring      2941\norientation       0\npets           1695\nreligion       1706\nsex               0\nsign            900\nsmokes          498\nspeaks            4\nstatus            0\ndtype: int64\n"
     ]
    }
   ],
   "source": [
    "print(f'Number of missing values for each feature:')\n",
    "print(df.isnull().sum())"
   ]
  },
  {
   "source": [
    "There are a lot of missing values, so we will need to remove these."
   ],
   "cell_type": "markdown",
   "metadata": {}
  },
  {
   "cell_type": "code",
   "execution_count": 100,
   "metadata": {},
   "outputs": [
    {
     "output_type": "execute_result",
     "data": {
      "text/plain": [
       "     age body_type               diet    drinks      drugs  \\\n",
       "3     38      thin           anything  socially        NaN   \n",
       "4     23      thin         vegetarian  socially        NaN   \n",
       "5     29  athletic                NaN  socially      never   \n",
       "6     29   average    mostly anything  socially        NaN   \n",
       "7     32       fit  strictly anything  socially      never   \n",
       "...   ..       ...                ...       ...        ...   \n",
       "4996  31       NaN                NaN       NaN      never   \n",
       "4997  19       fit    mostly anything  socially        NaN   \n",
       "4998  24       fit                NaN  socially  sometimes   \n",
       "4999  28   average                NaN  socially        NaN   \n",
       "5000  26       fit                NaN  socially        NaN   \n",
       "\n",
       "                              education                ethnicity height  \\\n",
       "3        graduated from masters program                      NaN     68   \n",
       "4         working on college/university                    white     71   \n",
       "5     graduated from college/university      asian, black, other     66   \n",
       "6     graduated from college/university                    white     67   \n",
       "7     graduated from college/university             white, other     65   \n",
       "...                                 ...                      ...    ...   \n",
       "4996     graduated from masters program                   indian     71   \n",
       "4997             working on high school  asian, pacific islander     64   \n",
       "4998              working on space camp         hispanic / latin     68   \n",
       "4999            working on ph.d program                    white     67   \n",
       "5000     graduated from masters program                    white     62   \n",
       "\n",
       "     income                             job  ...                   location  \\\n",
       "3        -1                             NaN  ...  san francisco, california   \n",
       "4     20000                         student  ...       berkeley, california   \n",
       "5        -1     artistic / musical / writer  ...  san francisco, california   \n",
       "6        -1  computer / hardware / software  ...  san francisco, california   \n",
       "7        -1                             NaN  ...  san francisco, california   \n",
       "...     ...                             ...  ...                        ...   \n",
       "4996     -1    science / tech / engineering  ...  mountain view, california   \n",
       "4997     -1                         student  ...       westlake, california   \n",
       "4998  20000                         student  ...        oakland, california   \n",
       "4999     -1                             NaN  ...      palo alto, california   \n",
       "5000     -1                           other  ...  san francisco, california   \n",
       "\n",
       "                                         offspring orientation  \\\n",
       "3                                              NaN    straight   \n",
       "4                          doesn&rsquo;t want kids    straight   \n",
       "5                                              NaN    straight   \n",
       "6     doesn&rsquo;t have kids, but might want them    straight   \n",
       "7                                              NaN    straight   \n",
       "...                                            ...         ...   \n",
       "4996                                           NaN    straight   \n",
       "4997                                           NaN    straight   \n",
       "4998                                           NaN    straight   \n",
       "4999                                           NaN    straight   \n",
       "5000                                           NaN         gay   \n",
       "\n",
       "                           pets                              religion sex  \\\n",
       "3                      has cats                                   NaN   m   \n",
       "4                    likes cats                                   NaN   m   \n",
       "5     likes dogs and likes cats                                   NaN   m   \n",
       "6                    likes cats                               atheism   m   \n",
       "7     likes dogs and likes cats                                   NaN   f   \n",
       "...                         ...                                   ...  ..   \n",
       "4996                        NaN                                   NaN   m   \n",
       "4997                        NaN                                   NaN   m   \n",
       "4998                   has dogs     catholicism and laughing about it   m   \n",
       "4999                        NaN                                   NaN   f   \n",
       "5000  likes dogs and likes cats  judaism but not too serious about it   f   \n",
       "\n",
       "                                             sign smokes  \\\n",
       "3              pisces but it doesn&rsquo;t matter     no   \n",
       "4                                          pisces     no   \n",
       "5                                        aquarius     no   \n",
       "6                                          taurus     no   \n",
       "7                                           virgo    NaN   \n",
       "...                                           ...    ...   \n",
       "4996                                          NaN     no   \n",
       "4997  capricorn and it&rsquo;s fun to think about     no   \n",
       "4998           taurus but it doesn&rsquo;t matter     no   \n",
       "4999           taurus but it doesn&rsquo;t matter     no   \n",
       "5000      aries and it&rsquo;s fun to think about     no   \n",
       "\n",
       "                                                 speaks     status  \n",
       "3                                  english, french, c++  available  \n",
       "4                              english, german (poorly)     single  \n",
       "5                                               english     single  \n",
       "6                    english (fluently), chinese (okay)     single  \n",
       "7                                               english     single  \n",
       "...                                                 ...        ...  \n",
       "4996                          english, spanish (poorly)     single  \n",
       "4997               english (fluently), spanish (poorly)     single  \n",
       "4998             english (fluently), spanish (fluently)     single  \n",
       "4999  english (fluently), hebrew (fluently), russian...     single  \n",
       "5000                  english (fluently), hebrew (okay)     single  \n",
       "\n",
       "[4377 rows x 21 columns]"
      ],
      "text/html": "<div>\n<style scoped>\n    .dataframe tbody tr th:only-of-type {\n        vertical-align: middle;\n    }\n\n    .dataframe tbody tr th {\n        vertical-align: top;\n    }\n\n    .dataframe thead th {\n        text-align: right;\n    }\n</style>\n<table border=\"1\" class=\"dataframe\">\n  <thead>\n    <tr style=\"text-align: right;\">\n      <th></th>\n      <th>age</th>\n      <th>body_type</th>\n      <th>diet</th>\n      <th>drinks</th>\n      <th>drugs</th>\n      <th>education</th>\n      <th>ethnicity</th>\n      <th>height</th>\n      <th>income</th>\n      <th>job</th>\n      <th>...</th>\n      <th>location</th>\n      <th>offspring</th>\n      <th>orientation</th>\n      <th>pets</th>\n      <th>religion</th>\n      <th>sex</th>\n      <th>sign</th>\n      <th>smokes</th>\n      <th>speaks</th>\n      <th>status</th>\n    </tr>\n  </thead>\n  <tbody>\n    <tr>\n      <th>3</th>\n      <td>38</td>\n      <td>thin</td>\n      <td>anything</td>\n      <td>socially</td>\n      <td>NaN</td>\n      <td>graduated from masters program</td>\n      <td>NaN</td>\n      <td>68</td>\n      <td>-1</td>\n      <td>NaN</td>\n      <td>...</td>\n      <td>san francisco, california</td>\n      <td>NaN</td>\n      <td>straight</td>\n      <td>has cats</td>\n      <td>NaN</td>\n      <td>m</td>\n      <td>pisces but it doesn&amp;rsquo;t matter</td>\n      <td>no</td>\n      <td>english, french, c++</td>\n      <td>available</td>\n    </tr>\n    <tr>\n      <th>4</th>\n      <td>23</td>\n      <td>thin</td>\n      <td>vegetarian</td>\n      <td>socially</td>\n      <td>NaN</td>\n      <td>working on college/university</td>\n      <td>white</td>\n      <td>71</td>\n      <td>20000</td>\n      <td>student</td>\n      <td>...</td>\n      <td>berkeley, california</td>\n      <td>doesn&amp;rsquo;t want kids</td>\n      <td>straight</td>\n      <td>likes cats</td>\n      <td>NaN</td>\n      <td>m</td>\n      <td>pisces</td>\n      <td>no</td>\n      <td>english, german (poorly)</td>\n      <td>single</td>\n    </tr>\n    <tr>\n      <th>5</th>\n      <td>29</td>\n      <td>athletic</td>\n      <td>NaN</td>\n      <td>socially</td>\n      <td>never</td>\n      <td>graduated from college/university</td>\n      <td>asian, black, other</td>\n      <td>66</td>\n      <td>-1</td>\n      <td>artistic / musical / writer</td>\n      <td>...</td>\n      <td>san francisco, california</td>\n      <td>NaN</td>\n      <td>straight</td>\n      <td>likes dogs and likes cats</td>\n      <td>NaN</td>\n      <td>m</td>\n      <td>aquarius</td>\n      <td>no</td>\n      <td>english</td>\n      <td>single</td>\n    </tr>\n    <tr>\n      <th>6</th>\n      <td>29</td>\n      <td>average</td>\n      <td>mostly anything</td>\n      <td>socially</td>\n      <td>NaN</td>\n      <td>graduated from college/university</td>\n      <td>white</td>\n      <td>67</td>\n      <td>-1</td>\n      <td>computer / hardware / software</td>\n      <td>...</td>\n      <td>san francisco, california</td>\n      <td>doesn&amp;rsquo;t have kids, but might want them</td>\n      <td>straight</td>\n      <td>likes cats</td>\n      <td>atheism</td>\n      <td>m</td>\n      <td>taurus</td>\n      <td>no</td>\n      <td>english (fluently), chinese (okay)</td>\n      <td>single</td>\n    </tr>\n    <tr>\n      <th>7</th>\n      <td>32</td>\n      <td>fit</td>\n      <td>strictly anything</td>\n      <td>socially</td>\n      <td>never</td>\n      <td>graduated from college/university</td>\n      <td>white, other</td>\n      <td>65</td>\n      <td>-1</td>\n      <td>NaN</td>\n      <td>...</td>\n      <td>san francisco, california</td>\n      <td>NaN</td>\n      <td>straight</td>\n      <td>likes dogs and likes cats</td>\n      <td>NaN</td>\n      <td>f</td>\n      <td>virgo</td>\n      <td>NaN</td>\n      <td>english</td>\n      <td>single</td>\n    </tr>\n    <tr>\n      <th>...</th>\n      <td>...</td>\n      <td>...</td>\n      <td>...</td>\n      <td>...</td>\n      <td>...</td>\n      <td>...</td>\n      <td>...</td>\n      <td>...</td>\n      <td>...</td>\n      <td>...</td>\n      <td>...</td>\n      <td>...</td>\n      <td>...</td>\n      <td>...</td>\n      <td>...</td>\n      <td>...</td>\n      <td>...</td>\n      <td>...</td>\n      <td>...</td>\n      <td>...</td>\n      <td>...</td>\n    </tr>\n    <tr>\n      <th>4996</th>\n      <td>31</td>\n      <td>NaN</td>\n      <td>NaN</td>\n      <td>NaN</td>\n      <td>never</td>\n      <td>graduated from masters program</td>\n      <td>indian</td>\n      <td>71</td>\n      <td>-1</td>\n      <td>science / tech / engineering</td>\n      <td>...</td>\n      <td>mountain view, california</td>\n      <td>NaN</td>\n      <td>straight</td>\n      <td>NaN</td>\n      <td>NaN</td>\n      <td>m</td>\n      <td>NaN</td>\n      <td>no</td>\n      <td>english, spanish (poorly)</td>\n      <td>single</td>\n    </tr>\n    <tr>\n      <th>4997</th>\n      <td>19</td>\n      <td>fit</td>\n      <td>mostly anything</td>\n      <td>socially</td>\n      <td>NaN</td>\n      <td>working on high school</td>\n      <td>asian, pacific islander</td>\n      <td>64</td>\n      <td>-1</td>\n      <td>student</td>\n      <td>...</td>\n      <td>westlake, california</td>\n      <td>NaN</td>\n      <td>straight</td>\n      <td>NaN</td>\n      <td>NaN</td>\n      <td>m</td>\n      <td>capricorn and it&amp;rsquo;s fun to think about</td>\n      <td>no</td>\n      <td>english (fluently), spanish (poorly)</td>\n      <td>single</td>\n    </tr>\n    <tr>\n      <th>4998</th>\n      <td>24</td>\n      <td>fit</td>\n      <td>NaN</td>\n      <td>socially</td>\n      <td>sometimes</td>\n      <td>working on space camp</td>\n      <td>hispanic / latin</td>\n      <td>68</td>\n      <td>20000</td>\n      <td>student</td>\n      <td>...</td>\n      <td>oakland, california</td>\n      <td>NaN</td>\n      <td>straight</td>\n      <td>has dogs</td>\n      <td>catholicism and laughing about it</td>\n      <td>m</td>\n      <td>taurus but it doesn&amp;rsquo;t matter</td>\n      <td>no</td>\n      <td>english (fluently), spanish (fluently)</td>\n      <td>single</td>\n    </tr>\n    <tr>\n      <th>4999</th>\n      <td>28</td>\n      <td>average</td>\n      <td>NaN</td>\n      <td>socially</td>\n      <td>NaN</td>\n      <td>working on ph.d program</td>\n      <td>white</td>\n      <td>67</td>\n      <td>-1</td>\n      <td>NaN</td>\n      <td>...</td>\n      <td>palo alto, california</td>\n      <td>NaN</td>\n      <td>straight</td>\n      <td>NaN</td>\n      <td>NaN</td>\n      <td>f</td>\n      <td>taurus but it doesn&amp;rsquo;t matter</td>\n      <td>no</td>\n      <td>english (fluently), hebrew (fluently), russian...</td>\n      <td>single</td>\n    </tr>\n    <tr>\n      <th>5000</th>\n      <td>26</td>\n      <td>fit</td>\n      <td>NaN</td>\n      <td>socially</td>\n      <td>NaN</td>\n      <td>graduated from masters program</td>\n      <td>white</td>\n      <td>62</td>\n      <td>-1</td>\n      <td>other</td>\n      <td>...</td>\n      <td>san francisco, california</td>\n      <td>NaN</td>\n      <td>gay</td>\n      <td>likes dogs and likes cats</td>\n      <td>judaism but not too serious about it</td>\n      <td>f</td>\n      <td>aries and it&amp;rsquo;s fun to think about</td>\n      <td>no</td>\n      <td>english (fluently), hebrew (okay)</td>\n      <td>single</td>\n    </tr>\n  </tbody>\n</table>\n<p>4377 rows × 21 columns</p>\n</div>"
     },
     "metadata": {},
     "execution_count": 100
    }
   ],
   "source": [
    "# Identify the rows with missing values\n",
    "df[df.isna().any(axis = 1)]"
   ]
  },
  {
   "cell_type": "code",
   "execution_count": 101,
   "metadata": {},
   "outputs": [
    {
     "output_type": "execute_result",
     "data": {
      "text/plain": [
       "623"
      ]
     },
     "metadata": {},
     "execution_count": 101
    }
   ],
   "source": [
    "# Remove the rows with missing values and make sure there are no missing values left\n",
    "df = df.dropna()\n",
    "df.shape[0]"
   ]
  },
  {
   "cell_type": "code",
   "execution_count": 102,
   "metadata": {},
   "outputs": [
    {
     "output_type": "execute_result",
     "data": {
      "text/plain": [
       "age            0\n",
       "body_type      0\n",
       "diet           0\n",
       "drinks         0\n",
       "drugs          0\n",
       "education      0\n",
       "ethnicity      0\n",
       "height         0\n",
       "income         0\n",
       "job            0\n",
       "last_online    0\n",
       "location       0\n",
       "offspring      0\n",
       "orientation    0\n",
       "pets           0\n",
       "religion       0\n",
       "sex            0\n",
       "sign           0\n",
       "smokes         0\n",
       "speaks         0\n",
       "status         0\n",
       "dtype: int64"
      ]
     },
     "metadata": {},
     "execution_count": 102
    }
   ],
   "source": [
    "df.isnull().sum()"
   ]
  },
  {
   "source": [
    "Now we can transform the variables into the correct data types so that we can perform the summary statistics"
   ],
   "cell_type": "markdown",
   "metadata": {}
  },
  {
   "cell_type": "code",
   "execution_count": 103,
   "metadata": {},
   "outputs": [],
   "source": [
    "# Transforming data types for age, height, income\n",
    "df['age'] = df.age.astype(int)\n",
    "df['height'] = df.height.astype(int)\n",
    "df['income'] = df.income.astype(int)"
   ]
  },
  {
   "cell_type": "code",
   "execution_count": 104,
   "metadata": {},
   "outputs": [
    {
     "output_type": "execute_result",
     "data": {
      "text/plain": [
       "age             int32\n",
       "body_type      object\n",
       "diet           object\n",
       "drinks         object\n",
       "drugs          object\n",
       "education      object\n",
       "ethnicity      object\n",
       "height          int32\n",
       "income          int32\n",
       "job            object\n",
       "last_online    object\n",
       "location       object\n",
       "offspring      object\n",
       "orientation    object\n",
       "pets           object\n",
       "religion       object\n",
       "sex            object\n",
       "sign           object\n",
       "smokes         object\n",
       "speaks         object\n",
       "status         object\n",
       "dtype: object"
      ]
     },
     "metadata": {},
     "execution_count": 104
    }
   ],
   "source": [
    "# Check that this has worked\n",
    "df.dtypes"
   ]
  },
  {
   "source": [
    "### Summary Statistics\n",
    "\n",
    "-"
   ],
   "cell_type": "markdown",
   "metadata": {}
  },
  {
   "cell_type": "markdown",
   "metadata": {},
   "source": [
    "### Continuous Features\n",
    "\n",
    "-"
   ]
  },
  {
   "cell_type": "markdown",
   "metadata": {},
   "source": [
    "### Categorical Features\n",
    "\n",
    "-"
   ]
  },
  {
   "cell_type": "markdown",
   "metadata": {},
   "source": [
    "### Dependent Variable\n",
    "\n",
    "-"
   ]
  },
  {
   "cell_type": "markdown",
   "metadata": {},
   "source": [
    "## Data Exploration \n",
    "\n",
    "-"
   ]
  },
  {
   "cell_type": "markdown",
   "metadata": {},
   "source": [
    "### Univariate Visualisation\n",
    "\n",
    "#### Bar Chart\n",
    "\n",
    "#### Box plot\n",
    "\n",
    "#### Histogram"
   ]
  },
  {
   "cell_type": "markdown",
   "metadata": {},
   "source": [
    "### Multivariate Visualisation\n",
    "\n",
    "#### Scatterplot\n",
    "\n",
    "#### Categorical Attributes by\n",
    "\n",
    "#### Facet plots\n",
    "\n",
    "#### another scatterplot probably"
   ]
  },
  {
   "cell_type": "markdown",
   "metadata": {},
   "source": [
    "## Statistical Modeling and Performance Evaluation\n",
    "\n",
    "### Full Model"
   ]
  },
  {
   "cell_type": "markdown",
   "metadata": {},
   "source": [
    "### Full Model Diagnostic Checks\n",
    "\n",
    "#### predictive variable - scatterplot\n",
    "\n",
    "#### actual variable - scatterplot\n",
    "\n",
    "#### predictive variable - histogram\n",
    "\n",
    "#### actual variable - histogram"
   ]
  },
  {
   "cell_type": "markdown",
   "metadata": {},
   "source": [
    "### Backwards Feature Selection"
   ]
  },
  {
   "cell_type": "markdown",
   "metadata": {},
   "source": [
    "### Reduced Model Diagnostic Checks\n",
    "\n",
    "#### scatterplot of reduced model\n",
    "\n",
    "#### histogram of reduced model|"
   ]
  },
  {
   "cell_type": "markdown",
   "metadata": {},
   "source": [
    "## Summary and Conclusions"
   ]
  },
  {
   "cell_type": "markdown",
   "metadata": {},
   "source": [
    "## References"
   ]
  },
  {
   "cell_type": "code",
   "execution_count": null,
   "metadata": {},
   "outputs": [],
   "source": []
  }
 ],
 "metadata": {
  "kernelspec": {
   "name": "Python 3.8.5 32-bit",
   "display_name": "Python 3.8.5 32-bit",
   "metadata": {
    "interpreter": {
     "hash": "3e26e66ef86bf5aa1d4e225213cda6e2ecf42e4e797348c4cc48b46cb687c05b"
    }
   }
  },
  "language_info": {
   "codemirror_mode": {
    "name": "ipython",
    "version": 3
   },
   "file_extension": ".py",
   "mimetype": "text/x-python",
   "name": "python",
   "nbconvert_exporter": "python",
   "pygments_lexer": "ipython3",
   "version": "3.8.5-final"
  }
 },
 "nbformat": 4,
 "nbformat_minor": 4
}