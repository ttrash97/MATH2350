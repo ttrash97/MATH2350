{
 "cells": [
  {
   "cell_type": "markdown",
   "metadata": {},
   "source": [
    "# Predicting Age from OK Cupid Data"
   ]
  },
  {
   "source": [
    "## Introduction\n",
    "The objective of this assignment is to predict the age of an individual on a dating profile, using OK Cupid profile data of users near San Francisco. This dataset was sourced from openml.org at https://www.openml.org/d/42164."
   ],
   "cell_type": "markdown",
   "metadata": {}
  },
  {
   "cell_type": "markdown",
   "metadata": {},
   "source": [
    "## Table of contents\n",
    "\n",
    "* [Overview](#Overview)\n",
    "* [Data preparation](#References)"
   ]
  },
  {
   "source": [
    "## Overview\n",
    "### Data source\n",
    "The dating profile dataset available on openml.org was originally sourced from public profiles on www.okcupid.com of users who lived within a 25 mile radius of San Francisco who were active online between 30/6/2011-30/6/2012 and had at least one profile picture. This data was sourced and made public with the permission of OK Cupid, and the csv linked on openml.org can be found here: https://github.com/rudeboybert/JSE_OkCupid/blob/master/profiles.csv.zip This source also includes a text file which gives a description of all the variables.\n",
    "\n",
    "This dataset has 59,946 observations (i.e. users), and 31 features (including the target feature which is age). We will use a sample of 5,000 observations for this assignment.\n",
    "\n",
    "### Project objective\n",
    "\n",
    "### Target feature\n",
    "The target features is `age`.\n",
    "\n",
    "### Descriptive features\n",
    "There are 30 descriptive features in this dataset. Some categorical features have two factors e.g. diet has mostly or strictly, as well as the type of diet.\n",
    "- `body_type`: categorical\n",
    "  - rather not say, thin, overweight, skinny, average, fit, athletic, jacked, a little extra, curvy, full figured, used up\n",
    "- `diet`: categorical\n",
    "  - mostly, strictly\n",
    "  - anything, vegetarian, vegan, kosher, halal, other\n",
    "- `drinks`: categorical\n",
    "  - very often, often, socially, rarely, desperately, not at all\n",
    "- `drugs`: categorical\n",
    "  - never, sometimes, often\n",
    "- `education`: categorical\n",
    "  - graduated from, working on, dropped out of\n",
    "  - high school, two-year college, university, masters program, law school, med school, Ph.D program, space camp\n",
    "- `ethnicity`: categorical\n",
    "  - asian, middle eastern, black, native american, indian, pacific islander, hispanic/latin, white, other\n",
    "- `height`: continuous, in inches\n",
    "- `income`: categorical in US $, -1 means rather not say\n",
    "  - -1, 20000, 30000, 40000, 50000, 60000 70000, 80000, 100000, 150000, 250000, 500000, 1000000,\n",
    "- `job`: categorical\n",
    "  - student, art/music/writing, banking/finance, administration, technology, construction, education, entertainment/media, management, hospitality, law, medicine, military, politics/government, sales/marketing, science/engineering, transportation, unemployed, other, rather not say, retire\n",
    "- `last online`:\n",
    "- `location`:\n",
    "- `offspring`: categorical\n",
    "  - has a kid, has kids, doesnt have a kid, doesn't want kids\n",
    "  - and/but might want them, wants them, doesn't want any, doesn't want more  \n",
    "- `orientation`: categorical\n",
    "  - straight, gay, bisexual\n",
    "- `pets`: categorical\n",
    "  - has dogs, likes dogs, dislikes dogs\n",
    "  - has cats, likes cats, dislikes cats\n",
    "- `religion`: categorical\n",
    "  - agnosticism, atheism, Christianity, Judaism, Catholicism, Islam, Hinduism, Buddhism, Other\n",
    "  - and very serious about it, and somewhat serious about it, but not too serious about it, and laughing about it\n",
    "- `sex`: categorical\n",
    "  - m, f\n",
    "- `sign`: categorical\n",
    "  - aquarius, pisces, aries, taurus, gemini, cancer, leo, virgo, libra, scorpio, sagittarius, capricorn\n",
    "  - but it doesn’t matter, and it matters a lot, and it’s fun to think about\n",
    "- `smokes`: categorical\n",
    "  - yes, sometimes, when drinking, trying to quit, no\n",
    "- `speaks`: categorical\n",
    "  - Afrikaans, Albanian, Arabic, Armenian, Basque, Belarusan, Bengali, Breton, Bulgarian, Catalan, Cebuano, Chechen, Chinese, C++, Croatian, Czech, Danish, Dutch, English, Esperanto, Estonian, Farsi, Finnish, French, Frisian, Georgian, German, Greek, Gujarati, Ancient Greek, Hawaiian, Hebrew, Hindi, Hungarian, Icelandic, Ilongo, Indonesian, Irish, Italian, Japanese, Khmer, Korean, Latin, Latvian, LISP, Lithuanian, Malay, Maori, Mongolian, Norwegian, Occitan, Other, Persian, Polish, Portuguese, Romanian, Rotuman, Russian, Sanskrit, Sardinian, Serbian, Sign Language, Slovak, Slovenian, Spanish, Swahili, Swedish, Tagalog, Tamil, Thai, Tibetan, Turkish, Ukranian, Urdu, Vietnamese, Welsh, Yiddish \n",
    "  - fluently, okay, poorly\n",
    "- `status`: categorical\n",
    "  - single, seeing someone, married, in an open relationship\n",
    "- `essay0`: id-like variable\n",
    "  - \"My self summary\"\n",
    "- `essay1`: id-like variable\n",
    "  - \"What I'm doing with my life\"\n",
    "- `essay2`: id-like variable\n",
    "  - \"I'm really good at\"\n",
    "- `essay3`: id-like variable\n",
    "  - \"The first thing people usually notice about me\"\n",
    "- `essay4`: id-like variable\n",
    "  - \"Favorite books, movies, show, music, and food\"\n",
    "- `essay5`: id-like variable\n",
    "  - \"The six things I could never do without\"\n",
    "- `essay6`: id-like variable\n",
    "  - \"I spend a lot of time thinking about\"\n",
    "- `essay7`: id-like variable\n",
    "  - \"On a typical Friday night I am\"\n",
    "- `essay8`: id-like variable\n",
    "  - \"The most private thing I am willing to admit\"\n",
    "- `essay9`: id-like variable\n",
    "  - \"You should message me if...\"  "
   ],
   "cell_type": "markdown",
   "metadata": {}
  },
  {
   "source": [
    "## Data Preparation\n",
    "\n",
    "-\n",
    "\n",
    "### Preliminaries"
   ],
   "cell_type": "markdown",
   "metadata": {}
  },
  {
   "cell_type": "code",
   "execution_count": 12,
   "metadata": {},
   "outputs": [],
   "source": [
    "# Importing modules\n",
    "import numpy as np\n",
    "import pandas as pd\n",
    "import matplotlib.pyplot as plt\n",
    "import seaborn as sns\n",
    "import statsmodels.api as sm\n",
    "import statsmodels.formula.api as smf\n",
    "import patsy\n",
    "import warnings\n",
    "###\n",
    "warnings.filterwarnings('ignore')\n",
    "###\n",
    "%matplotlib inline \n",
    "%config InlineBackend.figure_format = 'retina'\n",
    "plt.style.use(\"ggplot\")"
   ]
  },
  {
   "source": [
    "# Specifying the attribute names\n",
    "attributeNames = [\n",
    "    'age',\n",
    "    'body_type',\n",
    "    'diet',\n",
    "    'drinks',\n",
    "    'drugs',\n",
    "    'education',\n",
    "    'essay0',\n",
    "    'essay1',\n",
    "    'essay2',\n",
    "    'essay3',\n",
    "    'essay4',\n",
    "    'essay5', \n",
    "    'essay6',\n",
    "    'essay7',\n",
    "    'essay8',\n",
    "    'essay9',\n",
    "    'ethnicity',\n",
    "    'height',\n",
    "    'income',\n",
    "    'job',\n",
    "    'last_online',\n",
    "    'location',\n",
    "    'offspring',\n",
    "    'orientation',\n",
    "    'pets',\n",
    "    'religion',\n",
    "    'sex',\n",
    "    'sign',\n",
    "    'smokes',\n",
    "    'speaks',\n",
    "    'status',\n",
    "]\n",
    "\n",
    "# Read in data\n",
    "df = pd.read_csv('df.csv', names = attributeNames)\n",
    "df.sample(10)"
   ],
   "cell_type": "code",
   "metadata": {},
   "execution_count": 10,
   "outputs": [
    {
     "output_type": "execute_result",
     "data": {
      "text/plain": [
       "     age body_type               diet    drinks      drugs  \\\n",
       "1324  37   average  strictly anything  socially      never   \n",
       "967   25   average    mostly anything     often  sometimes   \n",
       "2970  31     curvy    mostly anything  socially      never   \n",
       "3934  44       fit    mostly anything  socially      never   \n",
       "2479  22  athletic       mostly halal    rarely      never   \n",
       "690   25      thin  strictly anything  socially        NaN   \n",
       "1040  24       NaN                NaN       NaN      never   \n",
       "2601  40   average         vegetarian     often      never   \n",
       "1156  33  athletic                NaN  socially      never   \n",
       "2486  32  athletic                NaN  socially      never   \n",
       "\n",
       "                              education  \\\n",
       "1324     graduated from masters program   \n",
       "967     dropped out of two-year college   \n",
       "2970                                NaN   \n",
       "3934  graduated from college/university   \n",
       "2479      working on college/university   \n",
       "690   graduated from college/university   \n",
       "1040  graduated from college/university   \n",
       "2601  graduated from college/university   \n",
       "1156        graduated from ph.d program   \n",
       "2486          graduated from law school   \n",
       "\n",
       "                                                 essay0  \\\n",
       "1324  hi. in summary, i am fun, cuddly, a little shy...   \n",
       "967                                                 NaN   \n",
       "2970            let's leave a little mystery, shall we?   \n",
       "3934  life is good. very good in fact. but am here, ...   \n",
       "2479  hi im ali. i live in the bay area and im middl...   \n",
       "690   grew up on the east coast, lived in australia ...   \n",
       "1040  grew up in the south bay, ucsd for undergrad, ...   \n",
       "2601  march '11: <a class=\"ilink\" href=\\n\"/interests...   \n",
       "1156  `one night i was sitting on the bed in my hote...   \n",
       "2486  i will say that i adore the opera and a wonder...   \n",
       "\n",
       "                                                 essay1  \\\n",
       "1324  good freakin' question. what am i doing with m...   \n",
       "967                                     judging things.   \n",
       "2970                            refer to \"self-summary\"   \n",
       "3934  trying to keep learning about stuff i don't kn...   \n",
       "2479                                                NaN   \n",
       "690                         i ask myself the same thing   \n",
       "1040  laughing a lot.<br />\\nwork: challenging mysel...   \n",
       "2601  working, but waiting to see what becomes of tu...   \n",
       "1156  i'm a scientist working in medical research. i...   \n",
       "2486  i believe in making my life's work mean someth...   \n",
       "\n",
       "                                                 essay2  \\\n",
       "1324                  seeing the bright side of things.   \n",
       "967                                                 NaN   \n",
       "2970  i am a master stick figure artist, a writer (b...   \n",
       "3934  taking good care of those i care most about, k...   \n",
       "2479                                                NaN   \n",
       "690   self-deprecating humor/sarcasm, solving proble...   \n",
       "1040        making people feel comfortable...i think :)   \n",
       "2601                               karaoke. puns. hugs.   \n",
       "1156  definitely i`m a good soccer player..then i li...   \n",
       "2486  will hunting, from good will hunting, describe...   \n",
       "\n",
       "                                                 essay3  ...  \\\n",
       "1324  like everyone else, my smile. my laugh, too (i...  ...   \n",
       "967                                                 NaN  ...   \n",
       "2970                                                NaN  ...   \n",
       "3934  i'm told my eyes tell the story...am intereste...  ...   \n",
       "2479                                                NaN  ...   \n",
       "690   my height, lack of hair, and green eyes.<br />...  ...   \n",
       "1040  probably that my energy is positive, warm, and...  ...   \n",
       "2601  march '11, at a party: \"i like your mohawk!\" \"...  ...   \n",
       "1156              american people? my italian accent...  ...   \n",
       "2486                                                NaN  ...   \n",
       "\n",
       "                       location                                     offspring  \\\n",
       "1324  san francisco, california                                           NaN   \n",
       "967   san francisco, california                                           NaN   \n",
       "2970        oakland, california                       doesn&rsquo;t have kids   \n",
       "3934        oakland, california                                           NaN   \n",
       "2479       berkeley, california                       doesn&rsquo;t have kids   \n",
       "690   san francisco, california  doesn&rsquo;t have kids, but might want them   \n",
       "1040  san francisco, california                                           NaN   \n",
       "2601        oakland, california                       doesn&rsquo;t want kids   \n",
       "1156  san francisco, california                                           NaN   \n",
       "2486        oakland, california                                           NaN   \n",
       "\n",
       "     orientation                       pets  \\\n",
       "1324    straight  likes dogs and likes cats   \n",
       "967     straight                        NaN   \n",
       "2970    straight    likes dogs and has cats   \n",
       "3934    straight  likes dogs and likes cats   \n",
       "2479    straight  likes dogs and likes cats   \n",
       "690          gay                 likes dogs   \n",
       "1040    straight                        NaN   \n",
       "2601    straight    likes dogs and has cats   \n",
       "1156    straight                        NaN   \n",
       "2486    straight                 likes dogs   \n",
       "\n",
       "                                       religion sex  \\\n",
       "1324  christianity but not too serious about it   f   \n",
       "967                                         NaN   f   \n",
       "2970  christianity but not too serious about it   f   \n",
       "3934                               christianity   f   \n",
       "2479                                      islam   m   \n",
       "690        atheism but not too serious about it   m   \n",
       "1040                                agnosticism   f   \n",
       "2601                                        NaN   m   \n",
       "1156                                    atheism   m   \n",
       "2486                                      other   f   \n",
       "\n",
       "                                         sign         smokes  \\\n",
       "1324    capricorn but it doesn&rsquo;t matter             no   \n",
       "967   sagittarius but it doesn&rsquo;t matter  when drinking   \n",
       "2970                                      leo             no   \n",
       "3934                                 aquarius             no   \n",
       "2479                                 aquarius             no   \n",
       "690   virgo and it&rsquo;s fun to think about             no   \n",
       "1040                                capricorn            NaN   \n",
       "2601       cancer but it doesn&rsquo;t matter             no   \n",
       "1156                                      leo             no   \n",
       "2486    leo and it&rsquo;s fun to think about             no   \n",
       "\n",
       "                                                 speaks     status  \n",
       "1324               english (fluently), spanish (poorly)     single  \n",
       "967                english (fluently), spanish (poorly)     single  \n",
       "2970                                 english (fluently)     single  \n",
       "3934            english, german (okay), french (poorly)     single  \n",
       "2479                                            english     single  \n",
       "690                                      english (okay)     single  \n",
       "1040                                            english     single  \n",
       "2601  english (fluently), french (poorly), spanish (...  available  \n",
       "1156                                   english, italian     single  \n",
       "2486  english (fluently), farsi (fluently), spanish ...     single  \n",
       "\n",
       "[10 rows x 31 columns]"
      ],
      "text/html": "<div>\n<style scoped>\n    .dataframe tbody tr th:only-of-type {\n        vertical-align: middle;\n    }\n\n    .dataframe tbody tr th {\n        vertical-align: top;\n    }\n\n    .dataframe thead th {\n        text-align: right;\n    }\n</style>\n<table border=\"1\" class=\"dataframe\">\n  <thead>\n    <tr style=\"text-align: right;\">\n      <th></th>\n      <th>age</th>\n      <th>body_type</th>\n      <th>diet</th>\n      <th>drinks</th>\n      <th>drugs</th>\n      <th>education</th>\n      <th>essay0</th>\n      <th>essay1</th>\n      <th>essay2</th>\n      <th>essay3</th>\n      <th>...</th>\n      <th>location</th>\n      <th>offspring</th>\n      <th>orientation</th>\n      <th>pets</th>\n      <th>religion</th>\n      <th>sex</th>\n      <th>sign</th>\n      <th>smokes</th>\n      <th>speaks</th>\n      <th>status</th>\n    </tr>\n  </thead>\n  <tbody>\n    <tr>\n      <th>1324</th>\n      <td>37</td>\n      <td>average</td>\n      <td>strictly anything</td>\n      <td>socially</td>\n      <td>never</td>\n      <td>graduated from masters program</td>\n      <td>hi. in summary, i am fun, cuddly, a little shy...</td>\n      <td>good freakin' question. what am i doing with m...</td>\n      <td>seeing the bright side of things.</td>\n      <td>like everyone else, my smile. my laugh, too (i...</td>\n      <td>...</td>\n      <td>san francisco, california</td>\n      <td>NaN</td>\n      <td>straight</td>\n      <td>likes dogs and likes cats</td>\n      <td>christianity but not too serious about it</td>\n      <td>f</td>\n      <td>capricorn but it doesn&amp;rsquo;t matter</td>\n      <td>no</td>\n      <td>english (fluently), spanish (poorly)</td>\n      <td>single</td>\n    </tr>\n    <tr>\n      <th>967</th>\n      <td>25</td>\n      <td>average</td>\n      <td>mostly anything</td>\n      <td>often</td>\n      <td>sometimes</td>\n      <td>dropped out of two-year college</td>\n      <td>NaN</td>\n      <td>judging things.</td>\n      <td>NaN</td>\n      <td>NaN</td>\n      <td>...</td>\n      <td>san francisco, california</td>\n      <td>NaN</td>\n      <td>straight</td>\n      <td>NaN</td>\n      <td>NaN</td>\n      <td>f</td>\n      <td>sagittarius but it doesn&amp;rsquo;t matter</td>\n      <td>when drinking</td>\n      <td>english (fluently), spanish (poorly)</td>\n      <td>single</td>\n    </tr>\n    <tr>\n      <th>2970</th>\n      <td>31</td>\n      <td>curvy</td>\n      <td>mostly anything</td>\n      <td>socially</td>\n      <td>never</td>\n      <td>NaN</td>\n      <td>let's leave a little mystery, shall we?</td>\n      <td>refer to \"self-summary\"</td>\n      <td>i am a master stick figure artist, a writer (b...</td>\n      <td>NaN</td>\n      <td>...</td>\n      <td>oakland, california</td>\n      <td>doesn&amp;rsquo;t have kids</td>\n      <td>straight</td>\n      <td>likes dogs and has cats</td>\n      <td>christianity but not too serious about it</td>\n      <td>f</td>\n      <td>leo</td>\n      <td>no</td>\n      <td>english (fluently)</td>\n      <td>single</td>\n    </tr>\n    <tr>\n      <th>3934</th>\n      <td>44</td>\n      <td>fit</td>\n      <td>mostly anything</td>\n      <td>socially</td>\n      <td>never</td>\n      <td>graduated from college/university</td>\n      <td>life is good. very good in fact. but am here, ...</td>\n      <td>trying to keep learning about stuff i don't kn...</td>\n      <td>taking good care of those i care most about, k...</td>\n      <td>i'm told my eyes tell the story...am intereste...</td>\n      <td>...</td>\n      <td>oakland, california</td>\n      <td>NaN</td>\n      <td>straight</td>\n      <td>likes dogs and likes cats</td>\n      <td>christianity</td>\n      <td>f</td>\n      <td>aquarius</td>\n      <td>no</td>\n      <td>english, german (okay), french (poorly)</td>\n      <td>single</td>\n    </tr>\n    <tr>\n      <th>2479</th>\n      <td>22</td>\n      <td>athletic</td>\n      <td>mostly halal</td>\n      <td>rarely</td>\n      <td>never</td>\n      <td>working on college/university</td>\n      <td>hi im ali. i live in the bay area and im middl...</td>\n      <td>NaN</td>\n      <td>NaN</td>\n      <td>NaN</td>\n      <td>...</td>\n      <td>berkeley, california</td>\n      <td>doesn&amp;rsquo;t have kids</td>\n      <td>straight</td>\n      <td>likes dogs and likes cats</td>\n      <td>islam</td>\n      <td>m</td>\n      <td>aquarius</td>\n      <td>no</td>\n      <td>english</td>\n      <td>single</td>\n    </tr>\n    <tr>\n      <th>690</th>\n      <td>25</td>\n      <td>thin</td>\n      <td>strictly anything</td>\n      <td>socially</td>\n      <td>NaN</td>\n      <td>graduated from college/university</td>\n      <td>grew up on the east coast, lived in australia ...</td>\n      <td>i ask myself the same thing</td>\n      <td>self-deprecating humor/sarcasm, solving proble...</td>\n      <td>my height, lack of hair, and green eyes.&lt;br /&gt;...</td>\n      <td>...</td>\n      <td>san francisco, california</td>\n      <td>doesn&amp;rsquo;t have kids, but might want them</td>\n      <td>gay</td>\n      <td>likes dogs</td>\n      <td>atheism but not too serious about it</td>\n      <td>m</td>\n      <td>virgo and it&amp;rsquo;s fun to think about</td>\n      <td>no</td>\n      <td>english (okay)</td>\n      <td>single</td>\n    </tr>\n    <tr>\n      <th>1040</th>\n      <td>24</td>\n      <td>NaN</td>\n      <td>NaN</td>\n      <td>NaN</td>\n      <td>never</td>\n      <td>graduated from college/university</td>\n      <td>grew up in the south bay, ucsd for undergrad, ...</td>\n      <td>laughing a lot.&lt;br /&gt;\\nwork: challenging mysel...</td>\n      <td>making people feel comfortable...i think :)</td>\n      <td>probably that my energy is positive, warm, and...</td>\n      <td>...</td>\n      <td>san francisco, california</td>\n      <td>NaN</td>\n      <td>straight</td>\n      <td>NaN</td>\n      <td>agnosticism</td>\n      <td>f</td>\n      <td>capricorn</td>\n      <td>NaN</td>\n      <td>english</td>\n      <td>single</td>\n    </tr>\n    <tr>\n      <th>2601</th>\n      <td>40</td>\n      <td>average</td>\n      <td>vegetarian</td>\n      <td>often</td>\n      <td>never</td>\n      <td>graduated from college/university</td>\n      <td>march '11: &lt;a class=\"ilink\" href=\\n\"/interests...</td>\n      <td>working, but waiting to see what becomes of tu...</td>\n      <td>karaoke. puns. hugs.</td>\n      <td>march '11, at a party: \"i like your mohawk!\" \"...</td>\n      <td>...</td>\n      <td>oakland, california</td>\n      <td>doesn&amp;rsquo;t want kids</td>\n      <td>straight</td>\n      <td>likes dogs and has cats</td>\n      <td>NaN</td>\n      <td>m</td>\n      <td>cancer but it doesn&amp;rsquo;t matter</td>\n      <td>no</td>\n      <td>english (fluently), french (poorly), spanish (...</td>\n      <td>available</td>\n    </tr>\n    <tr>\n      <th>1156</th>\n      <td>33</td>\n      <td>athletic</td>\n      <td>NaN</td>\n      <td>socially</td>\n      <td>never</td>\n      <td>graduated from ph.d program</td>\n      <td>`one night i was sitting on the bed in my hote...</td>\n      <td>i'm a scientist working in medical research. i...</td>\n      <td>definitely i`m a good soccer player..then i li...</td>\n      <td>american people? my italian accent...</td>\n      <td>...</td>\n      <td>san francisco, california</td>\n      <td>NaN</td>\n      <td>straight</td>\n      <td>NaN</td>\n      <td>atheism</td>\n      <td>m</td>\n      <td>leo</td>\n      <td>no</td>\n      <td>english, italian</td>\n      <td>single</td>\n    </tr>\n    <tr>\n      <th>2486</th>\n      <td>32</td>\n      <td>athletic</td>\n      <td>NaN</td>\n      <td>socially</td>\n      <td>never</td>\n      <td>graduated from law school</td>\n      <td>i will say that i adore the opera and a wonder...</td>\n      <td>i believe in making my life's work mean someth...</td>\n      <td>will hunting, from good will hunting, describe...</td>\n      <td>NaN</td>\n      <td>...</td>\n      <td>oakland, california</td>\n      <td>NaN</td>\n      <td>straight</td>\n      <td>likes dogs</td>\n      <td>other</td>\n      <td>f</td>\n      <td>leo and it&amp;rsquo;s fun to think about</td>\n      <td>no</td>\n      <td>english (fluently), farsi (fluently), spanish ...</td>\n      <td>single</td>\n    </tr>\n  </tbody>\n</table>\n<p>10 rows × 31 columns</p>\n</div>"
     },
     "metadata": {},
     "execution_count": 10
    }
   ]
  },
  {
   "cell_type": "markdown",
   "metadata": {},
   "source": [
    "### Data Cleaning and Transformation"
   ]
  },
  {
   "cell_type": "code",
   "execution_count": 15,
   "metadata": {},
   "outputs": [
    {
     "output_type": "stream",
     "name": "stdout",
     "text": [
      "The shape of the dataset is (5001, 31)\n\nData types are below:\nage            object\nbody_type      object\ndiet           object\ndrinks         object\ndrugs          object\neducation      object\nessay0         object\nessay1         object\nessay2         object\nessay3         object\nessay4         object\nessay5         object\nessay6         object\nessay7         object\nessay8         object\nessay9         object\nethnicity      object\nheight         object\nincome         object\njob            object\nlast_online    object\nlocation       object\noffspring      object\norientation    object\npets           object\nreligion       object\nsex            object\nsign           object\nsmokes         object\nspeaks         object\nstatus         object\ndtype: object\n"
     ]
    }
   ],
   "source": [
    "print(f'The shape of the dataset is {df.shape}\\n')\n",
    "print(f'Data types are below:')\n",
    "print(df.dtypes)"
   ]
  },
  {
   "source": [
    "### Checking for Missing Values\n",
    "\n",
    "-"
   ],
   "cell_type": "markdown",
   "metadata": {}
  },
  {
   "cell_type": "markdown",
   "metadata": {},
   "source": [
    "### Summary Statistics\n",
    "\n",
    "-"
   ]
  },
  {
   "cell_type": "markdown",
   "metadata": {},
   "source": [
    "### Continuous Features\n",
    "\n",
    "-"
   ]
  },
  {
   "cell_type": "markdown",
   "metadata": {},
   "source": [
    "### Fixing Column Names\n",
    "\n",
    "-"
   ]
  },
  {
   "cell_type": "markdown",
   "metadata": {},
   "source": [
    "### Categorical Features\n",
    "\n",
    "-"
   ]
  },
  {
   "cell_type": "markdown",
   "metadata": {},
   "source": [
    "### Dependent Variable\n",
    "\n",
    "-"
   ]
  },
  {
   "cell_type": "markdown",
   "metadata": {},
   "source": [
    "## Data Exploration \n",
    "\n",
    "-"
   ]
  },
  {
   "cell_type": "markdown",
   "metadata": {},
   "source": [
    "### Univariate Visualisation\n",
    "\n",
    "#### Bar Chart\n",
    "\n",
    "#### Box plot\n",
    "\n",
    "#### Histogram"
   ]
  },
  {
   "cell_type": "markdown",
   "metadata": {},
   "source": [
    "### Multivariate Visualisation\n",
    "\n",
    "#### Scatterplot\n",
    "\n",
    "#### Categorical Attributes by\n",
    "\n",
    "#### Facet plots\n",
    "\n",
    "#### another scatterplot probably"
   ]
  },
  {
   "cell_type": "markdown",
   "metadata": {},
   "source": [
    "## Statistical Modeling and Performance Evaluation\n",
    "\n",
    "### Full Model"
   ]
  },
  {
   "cell_type": "markdown",
   "metadata": {},
   "source": [
    "### Full Model Diagnostic Checks\n",
    "\n",
    "#### predictive variable - scatterplot\n",
    "\n",
    "#### actual variable - scatterplot\n",
    "\n",
    "#### predictive variable - histogram\n",
    "\n",
    "#### actual variable - histogram"
   ]
  },
  {
   "cell_type": "markdown",
   "metadata": {},
   "source": [
    "### Backwards Feature Selection"
   ]
  },
  {
   "cell_type": "markdown",
   "metadata": {},
   "source": [
    "### Reduced Model Diagnostic Checks\n",
    "\n",
    "#### scatterplot of reduced model\n",
    "\n",
    "#### histogram of reduced model|"
   ]
  },
  {
   "cell_type": "markdown",
   "metadata": {},
   "source": [
    "## Summary and Conclusions"
   ]
  },
  {
   "cell_type": "markdown",
   "metadata": {},
   "source": [
    "## References"
   ]
  },
  {
   "cell_type": "code",
   "execution_count": null,
   "metadata": {},
   "outputs": [],
   "source": []
  }
 ],
 "metadata": {
  "kernelspec": {
   "name": "Python 3.8.5 32-bit",
   "display_name": "Python 3.8.5 32-bit",
   "metadata": {
    "interpreter": {
     "hash": "3e26e66ef86bf5aa1d4e225213cda6e2ecf42e4e797348c4cc48b46cb687c05b"
    }
   }
  },
  "language_info": {
   "codemirror_mode": {
    "name": "ipython",
    "version": 3
   },
   "file_extension": ".py",
   "mimetype": "text/x-python",
   "name": "python",
   "nbconvert_exporter": "python",
   "pygments_lexer": "ipython3",
   "version": "3.8.5-final"
  }
 },
 "nbformat": 4,
 "nbformat_minor": 4
}